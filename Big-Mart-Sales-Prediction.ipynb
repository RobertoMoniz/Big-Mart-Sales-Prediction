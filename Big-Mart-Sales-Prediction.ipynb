{
 "cells": [
  {
   "cell_type": "markdown",
   "id": "8e218f8d",
   "metadata": {},
   "source": [
    "# Dashboard"
   ]
  },
  {
   "cell_type": "code",
   "execution_count": 1,
   "id": "7fc41194",
   "metadata": {
    "ExecuteTime": {
     "end_time": "2023-06-16T02:30:22.070463Z",
     "start_time": "2023-06-16T02:30:20.144651Z"
    }
   },
   "outputs": [
    {
     "data": {
      "text/html": [
       "<div>\n",
       "<style scoped>\n",
       "    .dataframe tbody tr th:only-of-type {\n",
       "        vertical-align: middle;\n",
       "    }\n",
       "\n",
       "    .dataframe tbody tr th {\n",
       "        vertical-align: top;\n",
       "    }\n",
       "\n",
       "    .dataframe thead th {\n",
       "        text-align: right;\n",
       "    }\n",
       "</style>\n",
       "<table border=\"1\" class=\"dataframe\">\n",
       "  <thead>\n",
       "    <tr style=\"text-align: right;\">\n",
       "      <th></th>\n",
       "      <th>Item_Identifier</th>\n",
       "      <th>Item_Weight</th>\n",
       "      <th>Item_Fat_Content</th>\n",
       "      <th>Item_Visibility</th>\n",
       "      <th>Item_Type</th>\n",
       "      <th>Item_MRP</th>\n",
       "      <th>Outlet_Identifier</th>\n",
       "      <th>Outlet_Establishment_Year</th>\n",
       "      <th>Outlet_Size</th>\n",
       "      <th>Outlet_Location_Type</th>\n",
       "      <th>Outlet_Type</th>\n",
       "      <th>Item_Outlet_Sales</th>\n",
       "    </tr>\n",
       "  </thead>\n",
       "  <tbody>\n",
       "    <tr>\n",
       "      <th>0</th>\n",
       "      <td>FDA15</td>\n",
       "      <td>9.30</td>\n",
       "      <td>Low Fat</td>\n",
       "      <td>0.016047</td>\n",
       "      <td>Dairy</td>\n",
       "      <td>249.8092</td>\n",
       "      <td>OUT049</td>\n",
       "      <td>1999</td>\n",
       "      <td>Medium</td>\n",
       "      <td>Tier 1</td>\n",
       "      <td>Supermarket Type1</td>\n",
       "      <td>3735.1380</td>\n",
       "    </tr>\n",
       "    <tr>\n",
       "      <th>1</th>\n",
       "      <td>DRC01</td>\n",
       "      <td>5.92</td>\n",
       "      <td>Regular</td>\n",
       "      <td>0.019278</td>\n",
       "      <td>Soft Drinks</td>\n",
       "      <td>48.2692</td>\n",
       "      <td>OUT018</td>\n",
       "      <td>2009</td>\n",
       "      <td>Medium</td>\n",
       "      <td>Tier 3</td>\n",
       "      <td>Supermarket Type2</td>\n",
       "      <td>443.4228</td>\n",
       "    </tr>\n",
       "    <tr>\n",
       "      <th>2</th>\n",
       "      <td>FDN15</td>\n",
       "      <td>17.50</td>\n",
       "      <td>Low Fat</td>\n",
       "      <td>0.016760</td>\n",
       "      <td>Meat</td>\n",
       "      <td>141.6180</td>\n",
       "      <td>OUT049</td>\n",
       "      <td>1999</td>\n",
       "      <td>Medium</td>\n",
       "      <td>Tier 1</td>\n",
       "      <td>Supermarket Type1</td>\n",
       "      <td>2097.2700</td>\n",
       "    </tr>\n",
       "    <tr>\n",
       "      <th>3</th>\n",
       "      <td>FDX07</td>\n",
       "      <td>19.20</td>\n",
       "      <td>Regular</td>\n",
       "      <td>0.000000</td>\n",
       "      <td>Fruits and Vegetables</td>\n",
       "      <td>182.0950</td>\n",
       "      <td>OUT010</td>\n",
       "      <td>1998</td>\n",
       "      <td>NaN</td>\n",
       "      <td>Tier 3</td>\n",
       "      <td>Grocery Store</td>\n",
       "      <td>732.3800</td>\n",
       "    </tr>\n",
       "    <tr>\n",
       "      <th>4</th>\n",
       "      <td>NCD19</td>\n",
       "      <td>8.93</td>\n",
       "      <td>Low Fat</td>\n",
       "      <td>0.000000</td>\n",
       "      <td>Household</td>\n",
       "      <td>53.8614</td>\n",
       "      <td>OUT013</td>\n",
       "      <td>1987</td>\n",
       "      <td>High</td>\n",
       "      <td>Tier 3</td>\n",
       "      <td>Supermarket Type1</td>\n",
       "      <td>994.7052</td>\n",
       "    </tr>\n",
       "  </tbody>\n",
       "</table>\n",
       "</div>"
      ],
      "text/plain": [
       "  Item_Identifier  Item_Weight Item_Fat_Content  Item_Visibility  \\\n",
       "0           FDA15         9.30          Low Fat         0.016047   \n",
       "1           DRC01         5.92          Regular         0.019278   \n",
       "2           FDN15        17.50          Low Fat         0.016760   \n",
       "3           FDX07        19.20          Regular         0.000000   \n",
       "4           NCD19         8.93          Low Fat         0.000000   \n",
       "\n",
       "               Item_Type  Item_MRP Outlet_Identifier  \\\n",
       "0                  Dairy  249.8092            OUT049   \n",
       "1            Soft Drinks   48.2692            OUT018   \n",
       "2                   Meat  141.6180            OUT049   \n",
       "3  Fruits and Vegetables  182.0950            OUT010   \n",
       "4              Household   53.8614            OUT013   \n",
       "\n",
       "   Outlet_Establishment_Year Outlet_Size Outlet_Location_Type  \\\n",
       "0                       1999      Medium               Tier 1   \n",
       "1                       2009      Medium               Tier 3   \n",
       "2                       1999      Medium               Tier 1   \n",
       "3                       1998         NaN               Tier 3   \n",
       "4                       1987        High               Tier 3   \n",
       "\n",
       "         Outlet_Type  Item_Outlet_Sales  \n",
       "0  Supermarket Type1          3735.1380  \n",
       "1  Supermarket Type2           443.4228  \n",
       "2  Supermarket Type1          2097.2700  \n",
       "3      Grocery Store           732.3800  \n",
       "4  Supermarket Type1           994.7052  "
      ]
     },
     "execution_count": 1,
     "metadata": {},
     "output_type": "execute_result"
    }
   ],
   "source": [
    "import pandas as pd\n",
    "import numpy as np\n",
    "import seaborn as sns\n",
    "import matplotlib.pyplot as plt\n",
    "import warnings\n",
    "warnings.filterwarnings('ignore')\n",
    "from sklearn.preprocessing import LabelEncoder\n",
    "\n",
    "train = pd.read_csv('train.csv')\n",
    "train.head()"
   ]
  },
  {
   "cell_type": "code",
   "execution_count": 2,
   "id": "a23cbf89",
   "metadata": {
    "ExecuteTime": {
     "end_time": "2023-06-16T02:30:22.100445Z",
     "start_time": "2023-06-16T02:30:22.072461Z"
    }
   },
   "outputs": [
    {
     "data": {
      "text/plain": [
       "Food              6125\n",
       "Non-Consumable    1599\n",
       "Drink              799\n",
       "Name: Item_Category, dtype: int64"
      ]
     },
     "execution_count": 2,
     "metadata": {},
     "output_type": "execute_result"
    }
   ],
   "source": [
    "# cria um novo recurso usando as duas primeiras letras do item_identifier\n",
    "\n",
    "train['Item_Category'] = train['Item_Identifier'].apply(lambda x: x[:2])\n",
    "train['Item_Category'] = train['Item_Category'].replace({'FD':'Food', 'DR':'Drink', 'NC':'Non-Consumable'})\n",
    "train['Item_Category'].value_counts()"
   ]
  },
  {
   "cell_type": "code",
   "execution_count": 3,
   "id": "f8813d6a",
   "metadata": {
    "ExecuteTime": {
     "end_time": "2023-06-16T02:30:22.132426Z",
     "start_time": "2023-06-16T02:30:22.102444Z"
    }
   },
   "outputs": [
    {
     "data": {
      "text/html": [
       "<div>\n",
       "<style scoped>\n",
       "    .dataframe tbody tr th:only-of-type {\n",
       "        vertical-align: middle;\n",
       "    }\n",
       "\n",
       "    .dataframe tbody tr th {\n",
       "        vertical-align: top;\n",
       "    }\n",
       "\n",
       "    .dataframe thead th {\n",
       "        text-align: right;\n",
       "    }\n",
       "</style>\n",
       "<table border=\"1\" class=\"dataframe\">\n",
       "  <thead>\n",
       "    <tr style=\"text-align: right;\">\n",
       "      <th></th>\n",
       "      <th>Item_Identifier</th>\n",
       "      <th>Item_Weight</th>\n",
       "      <th>Item_Fat_Content</th>\n",
       "      <th>Item_Visibility</th>\n",
       "      <th>Item_Type</th>\n",
       "      <th>Item_MRP</th>\n",
       "      <th>Outlet_Identifier</th>\n",
       "      <th>Outlet_Establishment_Year</th>\n",
       "      <th>Outlet_Size</th>\n",
       "      <th>Outlet_Location_Type</th>\n",
       "      <th>Outlet_Type</th>\n",
       "      <th>Item_Outlet_Sales</th>\n",
       "      <th>Item_Category</th>\n",
       "    </tr>\n",
       "  </thead>\n",
       "  <tbody>\n",
       "    <tr>\n",
       "      <th>0</th>\n",
       "      <td>FDA15</td>\n",
       "      <td>9.30</td>\n",
       "      <td>Low Fat</td>\n",
       "      <td>0.016047</td>\n",
       "      <td>Dairy</td>\n",
       "      <td>249.8092</td>\n",
       "      <td>OUT049</td>\n",
       "      <td>1999</td>\n",
       "      <td>Medium</td>\n",
       "      <td>Tier 1</td>\n",
       "      <td>Supermarket Type1</td>\n",
       "      <td>3735.1380</td>\n",
       "      <td>Food</td>\n",
       "    </tr>\n",
       "    <tr>\n",
       "      <th>1</th>\n",
       "      <td>DRC01</td>\n",
       "      <td>5.92</td>\n",
       "      <td>Regular</td>\n",
       "      <td>0.019278</td>\n",
       "      <td>Soft Drinks</td>\n",
       "      <td>48.2692</td>\n",
       "      <td>OUT018</td>\n",
       "      <td>2009</td>\n",
       "      <td>Medium</td>\n",
       "      <td>Tier 3</td>\n",
       "      <td>Supermarket Type2</td>\n",
       "      <td>443.4228</td>\n",
       "      <td>Drink</td>\n",
       "    </tr>\n",
       "    <tr>\n",
       "      <th>2</th>\n",
       "      <td>FDN15</td>\n",
       "      <td>17.50</td>\n",
       "      <td>Low Fat</td>\n",
       "      <td>0.016760</td>\n",
       "      <td>Meat</td>\n",
       "      <td>141.6180</td>\n",
       "      <td>OUT049</td>\n",
       "      <td>1999</td>\n",
       "      <td>Medium</td>\n",
       "      <td>Tier 1</td>\n",
       "      <td>Supermarket Type1</td>\n",
       "      <td>2097.2700</td>\n",
       "      <td>Food</td>\n",
       "    </tr>\n",
       "    <tr>\n",
       "      <th>3</th>\n",
       "      <td>FDX07</td>\n",
       "      <td>19.20</td>\n",
       "      <td>Regular</td>\n",
       "      <td>0.000000</td>\n",
       "      <td>Fruits and Vegetables</td>\n",
       "      <td>182.0950</td>\n",
       "      <td>OUT010</td>\n",
       "      <td>1998</td>\n",
       "      <td>NaN</td>\n",
       "      <td>Tier 3</td>\n",
       "      <td>Grocery Store</td>\n",
       "      <td>732.3800</td>\n",
       "      <td>Food</td>\n",
       "    </tr>\n",
       "    <tr>\n",
       "      <th>4</th>\n",
       "      <td>NCD19</td>\n",
       "      <td>8.93</td>\n",
       "      <td>Low Fat</td>\n",
       "      <td>0.000000</td>\n",
       "      <td>Household</td>\n",
       "      <td>53.8614</td>\n",
       "      <td>OUT013</td>\n",
       "      <td>1987</td>\n",
       "      <td>High</td>\n",
       "      <td>Tier 3</td>\n",
       "      <td>Supermarket Type1</td>\n",
       "      <td>994.7052</td>\n",
       "      <td>Non-Consumable</td>\n",
       "    </tr>\n",
       "  </tbody>\n",
       "</table>\n",
       "</div>"
      ],
      "text/plain": [
       "  Item_Identifier  Item_Weight Item_Fat_Content  Item_Visibility  \\\n",
       "0           FDA15         9.30          Low Fat         0.016047   \n",
       "1           DRC01         5.92          Regular         0.019278   \n",
       "2           FDN15        17.50          Low Fat         0.016760   \n",
       "3           FDX07        19.20          Regular         0.000000   \n",
       "4           NCD19         8.93          Low Fat         0.000000   \n",
       "\n",
       "               Item_Type  Item_MRP Outlet_Identifier  \\\n",
       "0                  Dairy  249.8092            OUT049   \n",
       "1            Soft Drinks   48.2692            OUT018   \n",
       "2                   Meat  141.6180            OUT049   \n",
       "3  Fruits and Vegetables  182.0950            OUT010   \n",
       "4              Household   53.8614            OUT013   \n",
       "\n",
       "   Outlet_Establishment_Year Outlet_Size Outlet_Location_Type  \\\n",
       "0                       1999      Medium               Tier 1   \n",
       "1                       2009      Medium               Tier 3   \n",
       "2                       1999      Medium               Tier 1   \n",
       "3                       1998         NaN               Tier 3   \n",
       "4                       1987        High               Tier 3   \n",
       "\n",
       "         Outlet_Type  Item_Outlet_Sales   Item_Category  \n",
       "0  Supermarket Type1          3735.1380            Food  \n",
       "1  Supermarket Type2           443.4228           Drink  \n",
       "2  Supermarket Type1          2097.2700            Food  \n",
       "3      Grocery Store           732.3800            Food  \n",
       "4  Supermarket Type1           994.7052  Non-Consumable  "
      ]
     },
     "execution_count": 3,
     "metadata": {},
     "output_type": "execute_result"
    }
   ],
   "source": [
    "train.head()"
   ]
  },
  {
   "cell_type": "code",
   "execution_count": 4,
   "id": "5418a7e2",
   "metadata": {
    "ExecuteTime": {
     "end_time": "2023-06-16T02:30:22.148414Z",
     "start_time": "2023-06-16T02:30:22.135422Z"
    }
   },
   "outputs": [
    {
     "data": {
      "text/plain": [
       "0.0"
      ]
     },
     "execution_count": 4,
     "metadata": {},
     "output_type": "execute_result"
    }
   ],
   "source": [
    "train['Item_Visibility'].min()"
   ]
  },
  {
   "cell_type": "code",
   "execution_count": 5,
   "id": "bc641d48",
   "metadata": {
    "ExecuteTime": {
     "end_time": "2023-06-16T02:30:22.164404Z",
     "start_time": "2023-06-16T02:30:22.150413Z"
    }
   },
   "outputs": [
    {
     "name": "stdout",
     "output_type": "stream",
     "text": [
      "Total de 0s antes da substituição:  526\n",
      "Total de 0s após a substituição:  0\n"
     ]
    }
   ],
   "source": [
    "print('Total de 0s antes da substituição: ', sum(train['Item_Visibility'] == 0))\n",
    "\n",
    "# Substituindo os 0s pela média\n",
    "train.loc[:,'Item_Visibility'].replace(to_replace=0,\n",
    "                                            value=train['Item_Visibility'].mean(),\n",
    "                                            inplace=True)\n",
    "\n",
    "# Total de 0s após a substituição\n",
    "print('Total de 0s após a substituição: ', sum(train['Item_Visibility'] == 0))"
   ]
  },
  {
   "cell_type": "code",
   "execution_count": 6,
   "id": "4873264f",
   "metadata": {
    "ExecuteTime": {
     "end_time": "2023-06-16T02:30:22.336299Z",
     "start_time": "2023-06-16T02:30:22.166403Z"
    }
   },
   "outputs": [
    {
     "data": {
      "text/plain": [
       "<AxesSubplot:xlabel='Item_Category', ylabel='count'>"
      ]
     },
     "execution_count": 6,
     "metadata": {},
     "output_type": "execute_result"
    },
    {
     "data": {
      "image/png": "[encoded data removed]",
      "text/plain": [
       "<Figure size 640x480 with 1 Axes>"
      ]
     },
     "metadata": {},
     "output_type": "display_data"
    }
   ],
   "source": [
    "sns.countplot(train['Item_Category'])"
   ]
  },
  {
   "cell_type": "code",
   "execution_count": 7,
   "id": "00d07227",
   "metadata": {
    "ExecuteTime": {
     "end_time": "2023-06-16T02:30:22.351291Z",
     "start_time": "2023-06-16T02:30:22.337298Z"
    }
   },
   "outputs": [],
   "source": [
    "# Data binding\n",
    "\n",
    "train.loc[train['Item_Identifier'] == 'Item_Weight', 'Item_Identifier'] = 'Others'\n",
    "train.loc[train['Item_Identifier'] == 'Item_Fat_Content', 'Item_Identifier'] = 'Others'\n",
    "train.loc[train['Item_Identifier'] == 'Item_Visibility', 'Item_Identifier'] = 'Others'\n",
    "train.loc[train['Item_Identifier'] == 'Item_Type', 'Item_Identifier'] = 'Others'"
   ]
  },
  {
   "cell_type": "code",
   "execution_count": 8,
   "id": "1063f729",
   "metadata": {
    "ExecuteTime": {
     "end_time": "2023-06-16T02:30:22.381271Z",
     "start_time": "2023-06-16T02:30:22.353289Z"
    }
   },
   "outputs": [
    {
     "data": {
      "text/html": [
       "<div>\n",
       "<style scoped>\n",
       "    .dataframe tbody tr th:only-of-type {\n",
       "        vertical-align: middle;\n",
       "    }\n",
       "\n",
       "    .dataframe tbody tr th {\n",
       "        vertical-align: top;\n",
       "    }\n",
       "\n",
       "    .dataframe thead th {\n",
       "        text-align: right;\n",
       "    }\n",
       "</style>\n",
       "<table border=\"1\" class=\"dataframe\">\n",
       "  <thead>\n",
       "    <tr style=\"text-align: right;\">\n",
       "      <th></th>\n",
       "      <th>Item_Identifier</th>\n",
       "      <th>Item_Weight</th>\n",
       "      <th>Item_Fat_Content</th>\n",
       "      <th>Item_Visibility</th>\n",
       "      <th>Item_Type</th>\n",
       "      <th>Item_MRP</th>\n",
       "      <th>Outlet_Identifier</th>\n",
       "      <th>Outlet_Establishment_Year</th>\n",
       "      <th>Outlet_Size</th>\n",
       "      <th>Outlet_Location_Type</th>\n",
       "      <th>Outlet_Type</th>\n",
       "      <th>Item_Outlet_Sales</th>\n",
       "      <th>Item_Category</th>\n",
       "    </tr>\n",
       "  </thead>\n",
       "  <tbody>\n",
       "    <tr>\n",
       "      <th>0</th>\n",
       "      <td>FDA15</td>\n",
       "      <td>9.30</td>\n",
       "      <td>Low Fat</td>\n",
       "      <td>0.016047</td>\n",
       "      <td>Dairy</td>\n",
       "      <td>249.8092</td>\n",
       "      <td>OUT049</td>\n",
       "      <td>1999</td>\n",
       "      <td>Medium</td>\n",
       "      <td>Tier 1</td>\n",
       "      <td>Supermarket Type1</td>\n",
       "      <td>3735.1380</td>\n",
       "      <td>Food</td>\n",
       "    </tr>\n",
       "    <tr>\n",
       "      <th>1</th>\n",
       "      <td>DRC01</td>\n",
       "      <td>5.92</td>\n",
       "      <td>Regular</td>\n",
       "      <td>0.019278</td>\n",
       "      <td>Soft Drinks</td>\n",
       "      <td>48.2692</td>\n",
       "      <td>OUT018</td>\n",
       "      <td>2009</td>\n",
       "      <td>Medium</td>\n",
       "      <td>Tier 3</td>\n",
       "      <td>Supermarket Type2</td>\n",
       "      <td>443.4228</td>\n",
       "      <td>Drink</td>\n",
       "    </tr>\n",
       "    <tr>\n",
       "      <th>2</th>\n",
       "      <td>FDN15</td>\n",
       "      <td>17.50</td>\n",
       "      <td>Low Fat</td>\n",
       "      <td>0.016760</td>\n",
       "      <td>Meat</td>\n",
       "      <td>141.6180</td>\n",
       "      <td>OUT049</td>\n",
       "      <td>1999</td>\n",
       "      <td>Medium</td>\n",
       "      <td>Tier 1</td>\n",
       "      <td>Supermarket Type1</td>\n",
       "      <td>2097.2700</td>\n",
       "      <td>Food</td>\n",
       "    </tr>\n",
       "    <tr>\n",
       "      <th>3</th>\n",
       "      <td>FDX07</td>\n",
       "      <td>19.20</td>\n",
       "      <td>Regular</td>\n",
       "      <td>0.066132</td>\n",
       "      <td>Fruits and Vegetables</td>\n",
       "      <td>182.0950</td>\n",
       "      <td>OUT010</td>\n",
       "      <td>1998</td>\n",
       "      <td>NaN</td>\n",
       "      <td>Tier 3</td>\n",
       "      <td>Grocery Store</td>\n",
       "      <td>732.3800</td>\n",
       "      <td>Food</td>\n",
       "    </tr>\n",
       "    <tr>\n",
       "      <th>4</th>\n",
       "      <td>NCD19</td>\n",
       "      <td>8.93</td>\n",
       "      <td>Low Fat</td>\n",
       "      <td>0.066132</td>\n",
       "      <td>Household</td>\n",
       "      <td>53.8614</td>\n",
       "      <td>OUT013</td>\n",
       "      <td>1987</td>\n",
       "      <td>High</td>\n",
       "      <td>Tier 3</td>\n",
       "      <td>Supermarket Type1</td>\n",
       "      <td>994.7052</td>\n",
       "      <td>Non-Consumable</td>\n",
       "    </tr>\n",
       "  </tbody>\n",
       "</table>\n",
       "</div>"
      ],
      "text/plain": [
       "  Item_Identifier  Item_Weight Item_Fat_Content  Item_Visibility  \\\n",
       "0           FDA15         9.30          Low Fat         0.016047   \n",
       "1           DRC01         5.92          Regular         0.019278   \n",
       "2           FDN15        17.50          Low Fat         0.016760   \n",
       "3           FDX07        19.20          Regular         0.066132   \n",
       "4           NCD19         8.93          Low Fat         0.066132   \n",
       "\n",
       "               Item_Type  Item_MRP Outlet_Identifier  \\\n",
       "0                  Dairy  249.8092            OUT049   \n",
       "1            Soft Drinks   48.2692            OUT018   \n",
       "2                   Meat  141.6180            OUT049   \n",
       "3  Fruits and Vegetables  182.0950            OUT010   \n",
       "4              Household   53.8614            OUT013   \n",
       "\n",
       "   Outlet_Establishment_Year Outlet_Size Outlet_Location_Type  \\\n",
       "0                       1999      Medium               Tier 1   \n",
       "1                       2009      Medium               Tier 3   \n",
       "2                       1999      Medium               Tier 1   \n",
       "3                       1998         NaN               Tier 3   \n",
       "4                       1987        High               Tier 3   \n",
       "\n",
       "         Outlet_Type  Item_Outlet_Sales   Item_Category  \n",
       "0  Supermarket Type1          3735.1380            Food  \n",
       "1  Supermarket Type2           443.4228           Drink  \n",
       "2  Supermarket Type1          2097.2700            Food  \n",
       "3      Grocery Store           732.3800            Food  \n",
       "4  Supermarket Type1           994.7052  Non-Consumable  "
      ]
     },
     "execution_count": 8,
     "metadata": {},
     "output_type": "execute_result"
    }
   ],
   "source": [
    "train.head()"
   ]
  },
  {
   "cell_type": "code",
   "execution_count": 9,
   "id": "2db7bcf3",
   "metadata": {
    "ExecuteTime": {
     "end_time": "2023-06-16T02:30:22.601136Z",
     "start_time": "2023-06-16T02:30:22.383270Z"
    }
   },
   "outputs": [
    {
     "data": {
      "image/png": "[encoded data removed]",
      "text/plain": [
       "<Figure size 640x480 with 1 Axes>"
      ]
     },
     "metadata": {},
     "output_type": "display_data"
    }
   ],
   "source": [
    "labels = list(train['Item_Type'].unique())\n",
    "countbar = sns.countplot(train['Item_Type'])\n",
    "countbar.set_xticklabels(labels=labels, rotation=90);"
   ]
  },
  {
   "cell_type": "code",
   "execution_count": 10,
   "id": "595931d0",
   "metadata": {
    "ExecuteTime": {
     "end_time": "2023-06-16T02:30:22.757039Z",
     "start_time": "2023-06-16T02:30:22.605133Z"
    }
   },
   "outputs": [
    {
     "data": {
      "image/png": "[encoded data removed]",
      "text/plain": [
       "<Figure size 1000x300 with 1 Axes>"
      ]
     },
     "metadata": {},
     "output_type": "display_data"
    }
   ],
   "source": [
    "fig, axes = plt.subplots(figsize=(10, 3))\n",
    "\n",
    "sns.countplot(train['Outlet_Identifier']);"
   ]
  },
  {
   "cell_type": "code",
   "execution_count": 11,
   "id": "47529069",
   "metadata": {
    "ExecuteTime": {
     "end_time": "2023-06-16T02:30:22.773030Z",
     "start_time": "2023-06-16T02:30:22.759038Z"
    }
   },
   "outputs": [
    {
     "data": {
      "text/html": [
       "<div>\n",
       "<style scoped>\n",
       "    .dataframe tbody tr th:only-of-type {\n",
       "        vertical-align: middle;\n",
       "    }\n",
       "\n",
       "    .dataframe tbody tr th {\n",
       "        vertical-align: top;\n",
       "    }\n",
       "\n",
       "    .dataframe thead th {\n",
       "        text-align: right;\n",
       "    }\n",
       "</style>\n",
       "<table border=\"1\" class=\"dataframe\">\n",
       "  <thead>\n",
       "    <tr style=\"text-align: right;\">\n",
       "      <th></th>\n",
       "      <th>Item_Outlet_Sales</th>\n",
       "    </tr>\n",
       "    <tr>\n",
       "      <th>Item_Identifier</th>\n",
       "      <th></th>\n",
       "    </tr>\n",
       "  </thead>\n",
       "  <tbody>\n",
       "    <tr>\n",
       "      <th>FDU28</th>\n",
       "      <td>4710.54</td>\n",
       "    </tr>\n",
       "    <tr>\n",
       "      <th>FDP10</th>\n",
       "      <td>4022.76</td>\n",
       "    </tr>\n",
       "    <tr>\n",
       "      <th>FDA15</th>\n",
       "      <td>3735.14</td>\n",
       "    </tr>\n",
       "    <tr>\n",
       "      <th>FDN15</th>\n",
       "      <td>2097.27</td>\n",
       "    </tr>\n",
       "    <tr>\n",
       "      <th>FDH17</th>\n",
       "      <td>1076.60</td>\n",
       "    </tr>\n",
       "    <tr>\n",
       "      <th>NCD19</th>\n",
       "      <td>994.71</td>\n",
       "    </tr>\n",
       "    <tr>\n",
       "      <th>FDX07</th>\n",
       "      <td>732.38</td>\n",
       "    </tr>\n",
       "    <tr>\n",
       "      <th>FDP36</th>\n",
       "      <td>556.61</td>\n",
       "    </tr>\n",
       "    <tr>\n",
       "      <th>DRC01</th>\n",
       "      <td>443.42</td>\n",
       "    </tr>\n",
       "    <tr>\n",
       "      <th>FDO10</th>\n",
       "      <td>343.55</td>\n",
       "    </tr>\n",
       "  </tbody>\n",
       "</table>\n",
       "</div>"
      ],
      "text/plain": [
       "                 Item_Outlet_Sales\n",
       "Item_Identifier                   \n",
       "FDU28                      4710.54\n",
       "FDP10                      4022.76\n",
       "FDA15                      3735.14\n",
       "FDN15                      2097.27\n",
       "FDH17                      1076.60\n",
       "NCD19                       994.71\n",
       "FDX07                       732.38\n",
       "FDP36                       556.61\n",
       "DRC01                       443.42\n",
       "FDO10                       343.55"
      ]
     },
     "execution_count": 11,
     "metadata": {},
     "output_type": "execute_result"
    }
   ],
   "source": [
    "# Dez itens mais vendidos\n",
    "\n",
    "pd.DataFrame(data=train, columns=(['Item_Identifier', 'Item_Outlet_Sales'])).head(10).groupby(by='Item_Identifier').sum().sort_values(by='Item_Outlet_Sales', ascending=False).round(2)"
   ]
  },
  {
   "cell_type": "code",
   "execution_count": 12,
   "id": "11d79131",
   "metadata": {
    "ExecuteTime": {
     "end_time": "2023-06-16T02:30:22.789019Z",
     "start_time": "2023-06-16T02:30:22.775027Z"
    }
   },
   "outputs": [
    {
     "data": {
      "text/plain": [
       "2410"
      ]
     },
     "execution_count": 12,
     "metadata": {},
     "output_type": "execute_result"
    }
   ],
   "source": [
    "train['Outlet_Size'].isna().sum()"
   ]
  },
  {
   "cell_type": "code",
   "execution_count": 13,
   "id": "8141f443",
   "metadata": {
    "ExecuteTime": {
     "end_time": "2023-06-16T02:30:22.821000Z",
     "start_time": "2023-06-16T02:30:22.791019Z"
    }
   },
   "outputs": [
    {
     "data": {
      "text/html": [
       "<div>\n",
       "<style scoped>\n",
       "    .dataframe tbody tr th:only-of-type {\n",
       "        vertical-align: middle;\n",
       "    }\n",
       "\n",
       "    .dataframe tbody tr th {\n",
       "        vertical-align: top;\n",
       "    }\n",
       "\n",
       "    .dataframe thead th {\n",
       "        text-align: right;\n",
       "    }\n",
       "</style>\n",
       "<table border=\"1\" class=\"dataframe\">\n",
       "  <thead>\n",
       "    <tr style=\"text-align: right;\">\n",
       "      <th>Outlet_Type</th>\n",
       "      <th>Grocery Store</th>\n",
       "      <th>Supermarket Type1</th>\n",
       "      <th>Supermarket Type2</th>\n",
       "      <th>Supermarket Type3</th>\n",
       "    </tr>\n",
       "  </thead>\n",
       "  <tbody>\n",
       "    <tr>\n",
       "      <th>Outlet_Size</th>\n",
       "      <td>Small</td>\n",
       "      <td>Small</td>\n",
       "      <td>Medium</td>\n",
       "      <td>Medium</td>\n",
       "    </tr>\n",
       "  </tbody>\n",
       "</table>\n",
       "</div>"
      ],
      "text/plain": [
       "Outlet_Type Grocery Store Supermarket Type1 Supermarket Type2  \\\n",
       "Outlet_Size         Small             Small            Medium   \n",
       "\n",
       "Outlet_Type Supermarket Type3  \n",
       "Outlet_Size            Medium  "
      ]
     },
     "execution_count": 13,
     "metadata": {},
     "output_type": "execute_result"
    }
   ],
   "source": [
    "Outlet_Type_Size = train.pivot_table(values='Outlet_Size',\n",
    "                                                      columns='Outlet_Type',\n",
    "                                                      aggfunc=lambda x: x.mode())\n",
    "Outlet_Type_Size"
   ]
  },
  {
   "cell_type": "code",
   "execution_count": 14,
   "id": "25bb0432",
   "metadata": {
    "ExecuteTime": {
     "end_time": "2023-06-16T02:30:22.881963Z",
     "start_time": "2023-06-16T02:30:22.822998Z"
    }
   },
   "outputs": [
    {
     "data": {
      "text/plain": [
       "Item_Identifier                 0\n",
       "Item_Weight                  1463\n",
       "Item_Fat_Content                0\n",
       "Item_Visibility                 0\n",
       "Item_Type                       0\n",
       "Item_MRP                        0\n",
       "Outlet_Identifier               0\n",
       "Outlet_Establishment_Year       0\n",
       "Outlet_Size                     0\n",
       "Outlet_Location_Type            0\n",
       "Outlet_Type                     0\n",
       "Item_Outlet_Sales               0\n",
       "Item_Category                   0\n",
       "dtype: int64"
      ]
     },
     "execution_count": 14,
     "metadata": {},
     "output_type": "execute_result"
    }
   ],
   "source": [
    "missing_values = train['Outlet_Size'].isnull()\n",
    "train.loc[missing_values, 'Outlet_Size'] = train.loc[missing_values, 'Outlet_Type'].apply(lambda x: Outlet_Type_Size[x].Outlet_Size)\n",
    "train.isna().sum()"
   ]
  },
  {
   "cell_type": "code",
   "execution_count": 15,
   "id": "5fb1100a",
   "metadata": {
    "ExecuteTime": {
     "end_time": "2023-06-16T02:30:22.975905Z",
     "start_time": "2023-06-16T02:30:22.883960Z"
    }
   },
   "outputs": [
    {
     "data": {
      "image/png": "[encoded data removed]",
      "text/plain": [
       "<Figure size 500x200 with 1 Axes>"
      ]
     },
     "metadata": {},
     "output_type": "display_data"
    }
   ],
   "source": [
    "fig, axes = plt.subplots(figsize=(5, 2))\n",
    "\n",
    "sns.countplot(train['Outlet_Size']);"
   ]
  },
  {
   "cell_type": "code",
   "execution_count": 16,
   "id": "661dd14c",
   "metadata": {
    "ExecuteTime": {
     "end_time": "2023-06-16T02:30:23.195769Z",
     "start_time": "2023-06-16T02:30:22.977903Z"
    },
    "scrolled": false
   },
   "outputs": [
    {
     "data": {
      "image/png": "[encoded data removed]",
      "text/plain": [
       "<Figure size 1500x500 with 1 Axes>"
      ]
     },
     "metadata": {},
     "output_type": "display_data"
    }
   ],
   "source": [
    "fig, axes = plt.subplots(figsize=(15, 5))\n",
    "plt.xticks(rotation=50)\n",
    "sns.countplot(train['Item_Type']);"
   ]
  },
  {
   "cell_type": "code",
   "execution_count": 17,
   "id": "8c071e71",
   "metadata": {
    "ExecuteTime": {
     "end_time": "2023-06-16T02:30:23.225749Z",
     "start_time": "2023-06-16T02:30:23.197768Z"
    }
   },
   "outputs": [
    {
     "data": {
      "text/html": [
       "<div>\n",
       "<style scoped>\n",
       "    .dataframe tbody tr th:only-of-type {\n",
       "        vertical-align: middle;\n",
       "    }\n",
       "\n",
       "    .dataframe tbody tr th {\n",
       "        vertical-align: top;\n",
       "    }\n",
       "\n",
       "    .dataframe thead th {\n",
       "        text-align: right;\n",
       "    }\n",
       "</style>\n",
       "<table border=\"1\" class=\"dataframe\">\n",
       "  <thead>\n",
       "    <tr style=\"text-align: right;\">\n",
       "      <th></th>\n",
       "      <th>Item_Outlet_Sales</th>\n",
       "    </tr>\n",
       "    <tr>\n",
       "      <th>Item_Type</th>\n",
       "      <th></th>\n",
       "    </tr>\n",
       "  </thead>\n",
       "  <tbody>\n",
       "    <tr>\n",
       "      <th>Fruits and Vegetables</th>\n",
       "      <td>2820059.82</td>\n",
       "    </tr>\n",
       "    <tr>\n",
       "      <th>Snack Foods</th>\n",
       "      <td>2732786.09</td>\n",
       "    </tr>\n",
       "    <tr>\n",
       "      <th>Household</th>\n",
       "      <td>2055493.71</td>\n",
       "    </tr>\n",
       "    <tr>\n",
       "      <th>Frozen Foods</th>\n",
       "      <td>1825734.79</td>\n",
       "    </tr>\n",
       "    <tr>\n",
       "      <th>Dairy</th>\n",
       "      <td>1522594.05</td>\n",
       "    </tr>\n",
       "    <tr>\n",
       "      <th>Canned</th>\n",
       "      <td>1444151.49</td>\n",
       "    </tr>\n",
       "    <tr>\n",
       "      <th>Baking Goods</th>\n",
       "      <td>1265525.34</td>\n",
       "    </tr>\n",
       "    <tr>\n",
       "      <th>Health and Hygiene</th>\n",
       "      <td>1045200.14</td>\n",
       "    </tr>\n",
       "    <tr>\n",
       "      <th>Meat</th>\n",
       "      <td>917565.61</td>\n",
       "    </tr>\n",
       "    <tr>\n",
       "      <th>Soft Drinks</th>\n",
       "      <td>892897.72</td>\n",
       "    </tr>\n",
       "    <tr>\n",
       "      <th>Breads</th>\n",
       "      <td>553237.19</td>\n",
       "    </tr>\n",
       "    <tr>\n",
       "      <th>Hard Drinks</th>\n",
       "      <td>457793.43</td>\n",
       "    </tr>\n",
       "    <tr>\n",
       "      <th>Starchy Foods</th>\n",
       "      <td>351401.25</td>\n",
       "    </tr>\n",
       "    <tr>\n",
       "      <th>Others</th>\n",
       "      <td>325517.61</td>\n",
       "    </tr>\n",
       "    <tr>\n",
       "      <th>Breakfast</th>\n",
       "      <td>232298.95</td>\n",
       "    </tr>\n",
       "    <tr>\n",
       "      <th>Seafood</th>\n",
       "      <td>148868.22</td>\n",
       "    </tr>\n",
       "  </tbody>\n",
       "</table>\n",
       "</div>"
      ],
      "text/plain": [
       "                       Item_Outlet_Sales\n",
       "Item_Type                               \n",
       "Fruits and Vegetables         2820059.82\n",
       "Snack Foods                   2732786.09\n",
       "Household                     2055493.71\n",
       "Frozen Foods                  1825734.79\n",
       "Dairy                         1522594.05\n",
       "Canned                        1444151.49\n",
       "Baking Goods                  1265525.34\n",
       "Health and Hygiene            1045200.14\n",
       "Meat                           917565.61\n",
       "Soft Drinks                    892897.72\n",
       "Breads                         553237.19\n",
       "Hard Drinks                    457793.43\n",
       "Starchy Foods                  351401.25\n",
       "Others                         325517.61\n",
       "Breakfast                      232298.95\n",
       "Seafood                        148868.22"
      ]
     },
     "execution_count": 17,
     "metadata": {},
     "output_type": "execute_result"
    }
   ],
   "source": [
    "# Receita obtida com cada categoria\n",
    "\n",
    "pd.DataFrame(data=train, columns=(['Item_Type', 'Item_Outlet_Sales'])).groupby(by='Item_Type').sum().sort_values(by='Item_Outlet_Sales', ascending=False).round(2)"
   ]
  },
  {
   "cell_type": "code",
   "execution_count": 18,
   "id": "23a91753",
   "metadata": {
    "ExecuteTime": {
     "end_time": "2023-06-16T02:30:23.240740Z",
     "start_time": "2023-06-16T02:30:23.227748Z"
    }
   },
   "outputs": [
    {
     "data": {
      "text/plain": [
       "array([1999, 2009, 1998, 1987, 1985, 2002, 2007, 1997, 2004], dtype=int64)"
      ]
     },
     "execution_count": 18,
     "metadata": {},
     "output_type": "execute_result"
    }
   ],
   "source": [
    "train['Outlet_Establishment_Year'].unique()"
   ]
  },
  {
   "cell_type": "code",
   "execution_count": 19,
   "id": "15764d6f",
   "metadata": {
    "ExecuteTime": {
     "end_time": "2023-06-16T02:30:23.256730Z",
     "start_time": "2023-06-16T02:30:23.242739Z"
    }
   },
   "outputs": [
    {
     "data": {
      "text/plain": [
       "0       10\n",
       "1        0\n",
       "2       10\n",
       "3       11\n",
       "4       22\n",
       "        ..\n",
       "8518    22\n",
       "8519     7\n",
       "8520     5\n",
       "8521     0\n",
       "8522    12\n",
       "Name: Outlet_Years, Length: 8523, dtype: int64"
      ]
     },
     "execution_count": 19,
     "metadata": {},
     "output_type": "execute_result"
    }
   ],
   "source": [
    "# Ha quantos anos ocorreu a venda, contando a partir de 2009\n",
    "\n",
    "train['Outlet_Years'] = 2009 - train['Outlet_Establishment_Year']\n",
    "train['Outlet_Years']"
   ]
  },
  {
   "cell_type": "code",
   "execution_count": 20,
   "id": "52c31a9b",
   "metadata": {
    "ExecuteTime": {
     "end_time": "2023-06-16T02:30:23.288710Z",
     "start_time": "2023-06-16T02:30:23.258729Z"
    }
   },
   "outputs": [
    {
     "data": {
      "text/html": [
       "<div>\n",
       "<style scoped>\n",
       "    .dataframe tbody tr th:only-of-type {\n",
       "        vertical-align: middle;\n",
       "    }\n",
       "\n",
       "    .dataframe tbody tr th {\n",
       "        vertical-align: top;\n",
       "    }\n",
       "\n",
       "    .dataframe thead th {\n",
       "        text-align: right;\n",
       "    }\n",
       "</style>\n",
       "<table border=\"1\" class=\"dataframe\">\n",
       "  <thead>\n",
       "    <tr style=\"text-align: right;\">\n",
       "      <th></th>\n",
       "      <th>Item_Identifier</th>\n",
       "      <th>Item_Weight</th>\n",
       "      <th>Item_Fat_Content</th>\n",
       "      <th>Item_Visibility</th>\n",
       "      <th>Item_Type</th>\n",
       "      <th>Item_MRP</th>\n",
       "      <th>Outlet_Identifier</th>\n",
       "      <th>Outlet_Establishment_Year</th>\n",
       "      <th>Outlet_Size</th>\n",
       "      <th>Outlet_Location_Type</th>\n",
       "      <th>Outlet_Type</th>\n",
       "      <th>Item_Outlet_Sales</th>\n",
       "      <th>Item_Category</th>\n",
       "      <th>Outlet_Years</th>\n",
       "    </tr>\n",
       "  </thead>\n",
       "  <tbody>\n",
       "    <tr>\n",
       "      <th>0</th>\n",
       "      <td>FDA15</td>\n",
       "      <td>9.30</td>\n",
       "      <td>Low Fat</td>\n",
       "      <td>0.016047</td>\n",
       "      <td>Dairy</td>\n",
       "      <td>249.8092</td>\n",
       "      <td>OUT049</td>\n",
       "      <td>1999</td>\n",
       "      <td>Medium</td>\n",
       "      <td>Tier 1</td>\n",
       "      <td>Supermarket Type1</td>\n",
       "      <td>3735.1380</td>\n",
       "      <td>Food</td>\n",
       "      <td>10</td>\n",
       "    </tr>\n",
       "    <tr>\n",
       "      <th>1</th>\n",
       "      <td>DRC01</td>\n",
       "      <td>5.92</td>\n",
       "      <td>Regular</td>\n",
       "      <td>0.019278</td>\n",
       "      <td>Soft Drinks</td>\n",
       "      <td>48.2692</td>\n",
       "      <td>OUT018</td>\n",
       "      <td>2009</td>\n",
       "      <td>Medium</td>\n",
       "      <td>Tier 3</td>\n",
       "      <td>Supermarket Type2</td>\n",
       "      <td>443.4228</td>\n",
       "      <td>Drink</td>\n",
       "      <td>0</td>\n",
       "    </tr>\n",
       "    <tr>\n",
       "      <th>2</th>\n",
       "      <td>FDN15</td>\n",
       "      <td>17.50</td>\n",
       "      <td>Low Fat</td>\n",
       "      <td>0.016760</td>\n",
       "      <td>Meat</td>\n",
       "      <td>141.6180</td>\n",
       "      <td>OUT049</td>\n",
       "      <td>1999</td>\n",
       "      <td>Medium</td>\n",
       "      <td>Tier 1</td>\n",
       "      <td>Supermarket Type1</td>\n",
       "      <td>2097.2700</td>\n",
       "      <td>Food</td>\n",
       "      <td>10</td>\n",
       "    </tr>\n",
       "    <tr>\n",
       "      <th>3</th>\n",
       "      <td>FDX07</td>\n",
       "      <td>19.20</td>\n",
       "      <td>Regular</td>\n",
       "      <td>0.066132</td>\n",
       "      <td>Fruits and Vegetables</td>\n",
       "      <td>182.0950</td>\n",
       "      <td>OUT010</td>\n",
       "      <td>1998</td>\n",
       "      <td>Small</td>\n",
       "      <td>Tier 3</td>\n",
       "      <td>Grocery Store</td>\n",
       "      <td>732.3800</td>\n",
       "      <td>Food</td>\n",
       "      <td>11</td>\n",
       "    </tr>\n",
       "    <tr>\n",
       "      <th>4</th>\n",
       "      <td>NCD19</td>\n",
       "      <td>8.93</td>\n",
       "      <td>Low Fat</td>\n",
       "      <td>0.066132</td>\n",
       "      <td>Household</td>\n",
       "      <td>53.8614</td>\n",
       "      <td>OUT013</td>\n",
       "      <td>1987</td>\n",
       "      <td>High</td>\n",
       "      <td>Tier 3</td>\n",
       "      <td>Supermarket Type1</td>\n",
       "      <td>994.7052</td>\n",
       "      <td>Non-Consumable</td>\n",
       "      <td>22</td>\n",
       "    </tr>\n",
       "  </tbody>\n",
       "</table>\n",
       "</div>"
      ],
      "text/plain": [
       "  Item_Identifier  Item_Weight Item_Fat_Content  Item_Visibility  \\\n",
       "0           FDA15         9.30          Low Fat         0.016047   \n",
       "1           DRC01         5.92          Regular         0.019278   \n",
       "2           FDN15        17.50          Low Fat         0.016760   \n",
       "3           FDX07        19.20          Regular         0.066132   \n",
       "4           NCD19         8.93          Low Fat         0.066132   \n",
       "\n",
       "               Item_Type  Item_MRP Outlet_Identifier  \\\n",
       "0                  Dairy  249.8092            OUT049   \n",
       "1            Soft Drinks   48.2692            OUT018   \n",
       "2                   Meat  141.6180            OUT049   \n",
       "3  Fruits and Vegetables  182.0950            OUT010   \n",
       "4              Household   53.8614            OUT013   \n",
       "\n",
       "   Outlet_Establishment_Year Outlet_Size Outlet_Location_Type  \\\n",
       "0                       1999      Medium               Tier 1   \n",
       "1                       2009      Medium               Tier 3   \n",
       "2                       1999      Medium               Tier 1   \n",
       "3                       1998       Small               Tier 3   \n",
       "4                       1987        High               Tier 3   \n",
       "\n",
       "         Outlet_Type  Item_Outlet_Sales   Item_Category  Outlet_Years  \n",
       "0  Supermarket Type1          3735.1380            Food            10  \n",
       "1  Supermarket Type2           443.4228           Drink             0  \n",
       "2  Supermarket Type1          2097.2700            Food            10  \n",
       "3      Grocery Store           732.3800            Food            11  \n",
       "4  Supermarket Type1           994.7052  Non-Consumable            22  "
      ]
     },
     "execution_count": 20,
     "metadata": {},
     "output_type": "execute_result"
    }
   ],
   "source": [
    "train.head()"
   ]
  },
  {
   "cell_type": "code",
   "execution_count": 21,
   "id": "8f4f4be6",
   "metadata": {
    "ExecuteTime": {
     "end_time": "2023-06-16T02:30:23.397643Z",
     "start_time": "2023-06-16T02:30:23.290709Z"
    }
   },
   "outputs": [
    {
     "data": {
      "image/png": "[encoded data removed]",
      "text/plain": [
       "<Figure size 500x200 with 1 Axes>"
      ]
     },
     "metadata": {},
     "output_type": "display_data"
    }
   ],
   "source": [
    "fig, axes = plt.subplots(figsize=(5, 2))\n",
    "\n",
    "sns.countplot(train['Outlet_Location_Type']);"
   ]
  },
  {
   "cell_type": "code",
   "execution_count": 22,
   "id": "3801c2fb",
   "metadata": {
    "ExecuteTime": {
     "end_time": "2023-06-16T02:30:23.554546Z",
     "start_time": "2023-06-16T02:30:23.399643Z"
    }
   },
   "outputs": [
    {
     "data": {
      "image/png": "[encoded data removed]",
      "text/plain": [
       "<Figure size 640x480 with 1 Axes>"
      ]
     },
     "metadata": {},
     "output_type": "display_data"
    }
   ],
   "source": [
    "sns.countplot(train['Outlet_Establishment_Year']);"
   ]
  },
  {
   "cell_type": "code",
   "execution_count": 23,
   "id": "4fa99c31",
   "metadata": {
    "ExecuteTime": {
     "end_time": "2023-06-16T02:30:23.570537Z",
     "start_time": "2023-06-16T02:30:23.556546Z"
    }
   },
   "outputs": [
    {
     "data": {
      "text/html": [
       "<div>\n",
       "<style scoped>\n",
       "    .dataframe tbody tr th:only-of-type {\n",
       "        vertical-align: middle;\n",
       "    }\n",
       "\n",
       "    .dataframe tbody tr th {\n",
       "        vertical-align: top;\n",
       "    }\n",
       "\n",
       "    .dataframe thead th {\n",
       "        text-align: right;\n",
       "    }\n",
       "</style>\n",
       "<table border=\"1\" class=\"dataframe\">\n",
       "  <thead>\n",
       "    <tr style=\"text-align: right;\">\n",
       "      <th></th>\n",
       "      <th>Item_Outlet_Sales</th>\n",
       "    </tr>\n",
       "    <tr>\n",
       "      <th>Outlet_Establishment_Year</th>\n",
       "      <th></th>\n",
       "    </tr>\n",
       "  </thead>\n",
       "  <tbody>\n",
       "    <tr>\n",
       "      <th>1985</th>\n",
       "      <td>3633620.14</td>\n",
       "    </tr>\n",
       "    <tr>\n",
       "      <th>2004</th>\n",
       "      <td>2268122.94</td>\n",
       "    </tr>\n",
       "    <tr>\n",
       "      <th>1999</th>\n",
       "      <td>2183969.81</td>\n",
       "    </tr>\n",
       "    <tr>\n",
       "      <th>2007</th>\n",
       "      <td>2167465.29</td>\n",
       "    </tr>\n",
       "    <tr>\n",
       "      <th>1987</th>\n",
       "      <td>2142663.58</td>\n",
       "    </tr>\n",
       "    <tr>\n",
       "      <th>1997</th>\n",
       "      <td>2118395.17</td>\n",
       "    </tr>\n",
       "    <tr>\n",
       "      <th>2002</th>\n",
       "      <td>2036725.48</td>\n",
       "    </tr>\n",
       "    <tr>\n",
       "      <th>2009</th>\n",
       "      <td>1851822.83</td>\n",
       "    </tr>\n",
       "    <tr>\n",
       "      <th>1998</th>\n",
       "      <td>188340.17</td>\n",
       "    </tr>\n",
       "  </tbody>\n",
       "</table>\n",
       "</div>"
      ],
      "text/plain": [
       "                           Item_Outlet_Sales\n",
       "Outlet_Establishment_Year                   \n",
       "1985                              3633620.14\n",
       "2004                              2268122.94\n",
       "1999                              2183969.81\n",
       "2007                              2167465.29\n",
       "1987                              2142663.58\n",
       "1997                              2118395.17\n",
       "2002                              2036725.48\n",
       "2009                              1851822.83\n",
       "1998                               188340.17"
      ]
     },
     "execution_count": 23,
     "metadata": {},
     "output_type": "execute_result"
    }
   ],
   "source": [
    "# Anos com maiores receitas\n",
    "\n",
    "pd.DataFrame(data=train, columns=(['Outlet_Establishment_Year', 'Item_Outlet_Sales'])).groupby(by='Outlet_Establishment_Year').sum().sort_values(by='Item_Outlet_Sales', ascending=False).round(2)"
   ]
  },
  {
   "cell_type": "code",
   "execution_count": 24,
   "id": "202d197a",
   "metadata": {
    "ExecuteTime": {
     "end_time": "2023-06-16T02:30:23.585528Z",
     "start_time": "2023-06-16T02:30:23.572536Z"
    }
   },
   "outputs": [
    {
     "data": {
      "text/plain": [
       "array(['Low Fat', 'Regular', 'low fat', 'LF', 'reg'], dtype=object)"
      ]
     },
     "execution_count": 24,
     "metadata": {},
     "output_type": "execute_result"
    }
   ],
   "source": [
    "train['Item_Fat_Content'].unique()"
   ]
  },
  {
   "cell_type": "code",
   "execution_count": 25,
   "id": "3bfd2920",
   "metadata": {
    "ExecuteTime": {
     "end_time": "2023-06-16T02:30:23.600520Z",
     "start_time": "2023-06-16T02:30:23.587527Z"
    }
   },
   "outputs": [
    {
     "data": {
      "text/plain": [
       "Low Fat    5517\n",
       "Regular    3006\n",
       "Name: Item_Fat_Content, dtype: int64"
      ]
     },
     "execution_count": 25,
     "metadata": {},
     "output_type": "execute_result"
    }
   ],
   "source": [
    "train['Item_Fat_Content'].replace({'low fat':'Low Fat', 'LF':'Low Fat', 'reg':'Regular'}, inplace=True)\n",
    "train['Item_Fat_Content'].value_counts()"
   ]
  },
  {
   "cell_type": "code",
   "execution_count": 26,
   "id": "29f29a8c",
   "metadata": {
    "ExecuteTime": {
     "end_time": "2023-06-16T02:30:23.695459Z",
     "start_time": "2023-06-16T02:30:23.602517Z"
    }
   },
   "outputs": [
    {
     "data": {
      "image/png": "[encoded data removed]",
      "text/plain": [
       "<Figure size 500x200 with 1 Axes>"
      ]
     },
     "metadata": {},
     "output_type": "display_data"
    }
   ],
   "source": [
    "fig, axes = plt.subplots(figsize=(5, 2))\n",
    "\n",
    "sns.countplot(train['Item_Fat_Content']);"
   ]
  },
  {
   "cell_type": "code",
   "execution_count": 27,
   "id": "ec3ffba7",
   "metadata": {
    "ExecuteTime": {
     "end_time": "2023-06-16T02:30:23.725441Z",
     "start_time": "2023-06-16T02:30:23.697459Z"
    }
   },
   "outputs": [
    {
     "data": {
      "text/plain": [
       "Item_Identifier                 0\n",
       "Item_Weight                  1463\n",
       "Item_Fat_Content                0\n",
       "Item_Visibility                 0\n",
       "Item_Type                       0\n",
       "Item_MRP                        0\n",
       "Outlet_Identifier               0\n",
       "Outlet_Establishment_Year       0\n",
       "Outlet_Size                     0\n",
       "Outlet_Location_Type            0\n",
       "Outlet_Type                     0\n",
       "Item_Outlet_Sales               0\n",
       "Item_Category                   0\n",
       "Outlet_Years                    0\n",
       "dtype: int64"
      ]
     },
     "execution_count": 27,
     "metadata": {},
     "output_type": "execute_result"
    }
   ],
   "source": [
    "train.isna().sum()"
   ]
  },
  {
   "cell_type": "code",
   "execution_count": 28,
   "id": "8e4e4df3",
   "metadata": {
    "ExecuteTime": {
     "end_time": "2023-06-16T02:30:23.773412Z",
     "start_time": "2023-06-16T02:30:23.737435Z"
    }
   },
   "outputs": [
    {
     "data": {
      "text/plain": [
       "Item_Identifier              0\n",
       "Item_Weight                  0\n",
       "Item_Fat_Content             0\n",
       "Item_Visibility              0\n",
       "Item_Type                    0\n",
       "Item_MRP                     0\n",
       "Outlet_Identifier            0\n",
       "Outlet_Establishment_Year    0\n",
       "Outlet_Size                  0\n",
       "Outlet_Location_Type         0\n",
       "Outlet_Type                  0\n",
       "Item_Outlet_Sales            0\n",
       "Item_Category                0\n",
       "Outlet_Years                 0\n",
       "dtype: int64"
      ]
     },
     "execution_count": 28,
     "metadata": {},
     "output_type": "execute_result"
    }
   ],
   "source": [
    "train['Item_Weight'].fillna(train['Item_Weight'].mean(), inplace=True)\n",
    "train.isna().sum()"
   ]
  },
  {
   "cell_type": "code",
   "execution_count": 29,
   "id": "d7970919",
   "metadata": {
    "ExecuteTime": {
     "end_time": "2023-06-16T02:30:23.805393Z",
     "start_time": "2023-06-16T02:30:23.775411Z"
    }
   },
   "outputs": [
    {
     "name": "stdout",
     "output_type": "stream",
     "text": [
      "<class 'pandas.core.frame.DataFrame'>\n",
      "RangeIndex: 8523 entries, 0 to 8522\n",
      "Data columns (total 14 columns):\n",
      " #   Column                     Non-Null Count  Dtype  \n",
      "---  ------                     --------------  -----  \n",
      " 0   Item_Identifier            8523 non-null   object \n",
      " 1   Item_Weight                8523 non-null   float64\n",
      " 2   Item_Fat_Content           8523 non-null   object \n",
      " 3   Item_Visibility            8523 non-null   float64\n",
      " 4   Item_Type                  8523 non-null   object \n",
      " 5   Item_MRP                   8523 non-null   float64\n",
      " 6   Outlet_Identifier          8523 non-null   object \n",
      " 7   Outlet_Establishment_Year  8523 non-null   int64  \n",
      " 8   Outlet_Size                8523 non-null   object \n",
      " 9   Outlet_Location_Type       8523 non-null   object \n",
      " 10  Outlet_Type                8523 non-null   object \n",
      " 11  Item_Outlet_Sales          8523 non-null   float64\n",
      " 12  Item_Category              8523 non-null   object \n",
      " 13  Outlet_Years               8523 non-null   int64  \n",
      "dtypes: float64(4), int64(2), object(8)\n",
      "memory usage: 932.3+ KB\n"
     ]
    }
   ],
   "source": [
    "train.info()"
   ]
  },
  {
   "cell_type": "code",
   "execution_count": 30,
   "id": "aef7eac9",
   "metadata": {
    "ExecuteTime": {
     "end_time": "2023-06-16T02:30:23.835374Z",
     "start_time": "2023-06-16T02:30:23.807391Z"
    }
   },
   "outputs": [],
   "source": [
    "encoder = LabelEncoder()\n",
    "\n",
    "encodecol = ['Item_Identifier', 'Item_Type', 'Outlet_Identifier']\n",
    "\n",
    "for col in encodecol:\n",
    "    train[col] = encoder.fit_transform(train[col])"
   ]
  },
  {
   "cell_type": "code",
   "execution_count": 31,
   "id": "e9e32d2d",
   "metadata": {
    "ExecuteTime": {
     "end_time": "2023-06-16T02:30:23.866356Z",
     "start_time": "2023-06-16T02:30:23.837372Z"
    }
   },
   "outputs": [
    {
     "data": {
      "text/html": [
       "<div>\n",
       "<style scoped>\n",
       "    .dataframe tbody tr th:only-of-type {\n",
       "        vertical-align: middle;\n",
       "    }\n",
       "\n",
       "    .dataframe tbody tr th {\n",
       "        vertical-align: top;\n",
       "    }\n",
       "\n",
       "    .dataframe thead th {\n",
       "        text-align: right;\n",
       "    }\n",
       "</style>\n",
       "<table border=\"1\" class=\"dataframe\">\n",
       "  <thead>\n",
       "    <tr style=\"text-align: right;\">\n",
       "      <th></th>\n",
       "      <th>Item_Identifier</th>\n",
       "      <th>Item_Weight</th>\n",
       "      <th>Item_Fat_Content</th>\n",
       "      <th>Item_Visibility</th>\n",
       "      <th>Item_Type</th>\n",
       "      <th>Item_MRP</th>\n",
       "      <th>Outlet_Identifier</th>\n",
       "      <th>Outlet_Establishment_Year</th>\n",
       "      <th>Outlet_Size</th>\n",
       "      <th>Outlet_Location_Type</th>\n",
       "      <th>Outlet_Type</th>\n",
       "      <th>Item_Outlet_Sales</th>\n",
       "      <th>Item_Category</th>\n",
       "      <th>Outlet_Years</th>\n",
       "    </tr>\n",
       "  </thead>\n",
       "  <tbody>\n",
       "    <tr>\n",
       "      <th>0</th>\n",
       "      <td>156</td>\n",
       "      <td>9.30</td>\n",
       "      <td>Low Fat</td>\n",
       "      <td>0.016047</td>\n",
       "      <td>4</td>\n",
       "      <td>249.8092</td>\n",
       "      <td>9</td>\n",
       "      <td>1999</td>\n",
       "      <td>Medium</td>\n",
       "      <td>Tier 1</td>\n",
       "      <td>Supermarket Type1</td>\n",
       "      <td>3735.1380</td>\n",
       "      <td>Food</td>\n",
       "      <td>10</td>\n",
       "    </tr>\n",
       "    <tr>\n",
       "      <th>1</th>\n",
       "      <td>8</td>\n",
       "      <td>5.92</td>\n",
       "      <td>Regular</td>\n",
       "      <td>0.019278</td>\n",
       "      <td>14</td>\n",
       "      <td>48.2692</td>\n",
       "      <td>3</td>\n",
       "      <td>2009</td>\n",
       "      <td>Medium</td>\n",
       "      <td>Tier 3</td>\n",
       "      <td>Supermarket Type2</td>\n",
       "      <td>443.4228</td>\n",
       "      <td>Drink</td>\n",
       "      <td>0</td>\n",
       "    </tr>\n",
       "    <tr>\n",
       "      <th>2</th>\n",
       "      <td>662</td>\n",
       "      <td>17.50</td>\n",
       "      <td>Low Fat</td>\n",
       "      <td>0.016760</td>\n",
       "      <td>10</td>\n",
       "      <td>141.6180</td>\n",
       "      <td>9</td>\n",
       "      <td>1999</td>\n",
       "      <td>Medium</td>\n",
       "      <td>Tier 1</td>\n",
       "      <td>Supermarket Type1</td>\n",
       "      <td>2097.2700</td>\n",
       "      <td>Food</td>\n",
       "      <td>10</td>\n",
       "    </tr>\n",
       "    <tr>\n",
       "      <th>3</th>\n",
       "      <td>1121</td>\n",
       "      <td>19.20</td>\n",
       "      <td>Regular</td>\n",
       "      <td>0.066132</td>\n",
       "      <td>6</td>\n",
       "      <td>182.0950</td>\n",
       "      <td>0</td>\n",
       "      <td>1998</td>\n",
       "      <td>Small</td>\n",
       "      <td>Tier 3</td>\n",
       "      <td>Grocery Store</td>\n",
       "      <td>732.3800</td>\n",
       "      <td>Food</td>\n",
       "      <td>11</td>\n",
       "    </tr>\n",
       "    <tr>\n",
       "      <th>4</th>\n",
       "      <td>1297</td>\n",
       "      <td>8.93</td>\n",
       "      <td>Low Fat</td>\n",
       "      <td>0.066132</td>\n",
       "      <td>9</td>\n",
       "      <td>53.8614</td>\n",
       "      <td>1</td>\n",
       "      <td>1987</td>\n",
       "      <td>High</td>\n",
       "      <td>Tier 3</td>\n",
       "      <td>Supermarket Type1</td>\n",
       "      <td>994.7052</td>\n",
       "      <td>Non-Consumable</td>\n",
       "      <td>22</td>\n",
       "    </tr>\n",
       "  </tbody>\n",
       "</table>\n",
       "</div>"
      ],
      "text/plain": [
       "   Item_Identifier  Item_Weight Item_Fat_Content  Item_Visibility  Item_Type  \\\n",
       "0              156         9.30          Low Fat         0.016047          4   \n",
       "1                8         5.92          Regular         0.019278         14   \n",
       "2              662        17.50          Low Fat         0.016760         10   \n",
       "3             1121        19.20          Regular         0.066132          6   \n",
       "4             1297         8.93          Low Fat         0.066132          9   \n",
       "\n",
       "   Item_MRP  Outlet_Identifier  Outlet_Establishment_Year Outlet_Size  \\\n",
       "0  249.8092                  9                       1999      Medium   \n",
       "1   48.2692                  3                       2009      Medium   \n",
       "2  141.6180                  9                       1999      Medium   \n",
       "3  182.0950                  0                       1998       Small   \n",
       "4   53.8614                  1                       1987        High   \n",
       "\n",
       "  Outlet_Location_Type        Outlet_Type  Item_Outlet_Sales   Item_Category  \\\n",
       "0               Tier 1  Supermarket Type1          3735.1380            Food   \n",
       "1               Tier 3  Supermarket Type2           443.4228           Drink   \n",
       "2               Tier 1  Supermarket Type1          2097.2700            Food   \n",
       "3               Tier 3      Grocery Store           732.3800            Food   \n",
       "4               Tier 3  Supermarket Type1           994.7052  Non-Consumable   \n",
       "\n",
       "   Outlet_Years  \n",
       "0            10  \n",
       "1             0  \n",
       "2            10  \n",
       "3            11  \n",
       "4            22  "
      ]
     },
     "execution_count": 31,
     "metadata": {},
     "output_type": "execute_result"
    }
   ],
   "source": [
    "train.head()"
   ]
  },
  {
   "cell_type": "code",
   "execution_count": 32,
   "id": "5576852f",
   "metadata": {
    "ExecuteTime": {
     "end_time": "2023-06-16T02:30:23.896336Z",
     "start_time": "2023-06-16T02:30:23.868355Z"
    }
   },
   "outputs": [],
   "source": [
    "train = pd.get_dummies(train, columns=['Item_Fat_Content', 'Outlet_Size', 'Outlet_Location_Type', 'Outlet_Type', 'Item_Category'])"
   ]
  },
  {
   "cell_type": "code",
   "execution_count": 33,
   "id": "8da171be",
   "metadata": {
    "ExecuteTime": {
     "end_time": "2023-06-16T02:30:23.912327Z",
     "start_time": "2023-06-16T02:30:23.898336Z"
    },
    "scrolled": false
   },
   "outputs": [
    {
     "name": "stdout",
     "output_type": "stream",
     "text": [
      "<class 'pandas.core.frame.DataFrame'>\n",
      "RangeIndex: 8523 entries, 0 to 8522\n",
      "Data columns (total 24 columns):\n",
      " #   Column                         Non-Null Count  Dtype  \n",
      "---  ------                         --------------  -----  \n",
      " 0   Item_Identifier                8523 non-null   int32  \n",
      " 1   Item_Weight                    8523 non-null   float64\n",
      " 2   Item_Visibility                8523 non-null   float64\n",
      " 3   Item_Type                      8523 non-null   int32  \n",
      " 4   Item_MRP                       8523 non-null   float64\n",
      " 5   Outlet_Identifier              8523 non-null   int32  \n",
      " 6   Outlet_Establishment_Year      8523 non-null   int64  \n",
      " 7   Item_Outlet_Sales              8523 non-null   float64\n",
      " 8   Outlet_Years                   8523 non-null   int64  \n",
      " 9   Item_Fat_Content_Low Fat       8523 non-null   uint8  \n",
      " 10  Item_Fat_Content_Regular       8523 non-null   uint8  \n",
      " 11  Outlet_Size_High               8523 non-null   uint8  \n",
      " 12  Outlet_Size_Medium             8523 non-null   uint8  \n",
      " 13  Outlet_Size_Small              8523 non-null   uint8  \n",
      " 14  Outlet_Location_Type_Tier 1    8523 non-null   uint8  \n",
      " 15  Outlet_Location_Type_Tier 2    8523 non-null   uint8  \n",
      " 16  Outlet_Location_Type_Tier 3    8523 non-null   uint8  \n",
      " 17  Outlet_Type_Grocery Store      8523 non-null   uint8  \n",
      " 18  Outlet_Type_Supermarket Type1  8523 non-null   uint8  \n",
      " 19  Outlet_Type_Supermarket Type2  8523 non-null   uint8  \n",
      " 20  Outlet_Type_Supermarket Type3  8523 non-null   uint8  \n",
      " 21  Item_Category_Drink            8523 non-null   uint8  \n",
      " 22  Item_Category_Food             8523 non-null   uint8  \n",
      " 23  Item_Category_Non-Consumable   8523 non-null   uint8  \n",
      "dtypes: float64(4), int32(3), int64(2), uint8(15)\n",
      "memory usage: 624.4 KB\n"
     ]
    }
   ],
   "source": [
    "train.info()"
   ]
  },
  {
   "cell_type": "code",
   "execution_count": 34,
   "id": "a4c5e4fc",
   "metadata": {
    "ExecuteTime": {
     "end_time": "2023-06-16T02:30:23.943308Z",
     "start_time": "2023-06-16T02:30:23.913327Z"
    }
   },
   "outputs": [
    {
     "data": {
      "text/html": [
       "<div>\n",
       "<style scoped>\n",
       "    .dataframe tbody tr th:only-of-type {\n",
       "        vertical-align: middle;\n",
       "    }\n",
       "\n",
       "    .dataframe tbody tr th {\n",
       "        vertical-align: top;\n",
       "    }\n",
       "\n",
       "    .dataframe thead th {\n",
       "        text-align: right;\n",
       "    }\n",
       "</style>\n",
       "<table border=\"1\" class=\"dataframe\">\n",
       "  <thead>\n",
       "    <tr style=\"text-align: right;\">\n",
       "      <th></th>\n",
       "      <th>Item_Identifier</th>\n",
       "      <th>Item_Weight</th>\n",
       "      <th>Item_Visibility</th>\n",
       "      <th>Item_Type</th>\n",
       "      <th>Item_MRP</th>\n",
       "      <th>Outlet_Identifier</th>\n",
       "      <th>Outlet_Establishment_Year</th>\n",
       "      <th>Item_Outlet_Sales</th>\n",
       "      <th>Outlet_Years</th>\n",
       "      <th>Item_Fat_Content_Low Fat</th>\n",
       "      <th>...</th>\n",
       "      <th>Outlet_Location_Type_Tier 1</th>\n",
       "      <th>Outlet_Location_Type_Tier 2</th>\n",
       "      <th>Outlet_Location_Type_Tier 3</th>\n",
       "      <th>Outlet_Type_Grocery Store</th>\n",
       "      <th>Outlet_Type_Supermarket Type1</th>\n",
       "      <th>Outlet_Type_Supermarket Type2</th>\n",
       "      <th>Outlet_Type_Supermarket Type3</th>\n",
       "      <th>Item_Category_Drink</th>\n",
       "      <th>Item_Category_Food</th>\n",
       "      <th>Item_Category_Non-Consumable</th>\n",
       "    </tr>\n",
       "  </thead>\n",
       "  <tbody>\n",
       "    <tr>\n",
       "      <th>0</th>\n",
       "      <td>156</td>\n",
       "      <td>9.30</td>\n",
       "      <td>0.016047</td>\n",
       "      <td>4</td>\n",
       "      <td>249.8092</td>\n",
       "      <td>9</td>\n",
       "      <td>1999</td>\n",
       "      <td>3735.1380</td>\n",
       "      <td>10</td>\n",
       "      <td>1</td>\n",
       "      <td>...</td>\n",
       "      <td>1</td>\n",
       "      <td>0</td>\n",
       "      <td>0</td>\n",
       "      <td>0</td>\n",
       "      <td>1</td>\n",
       "      <td>0</td>\n",
       "      <td>0</td>\n",
       "      <td>0</td>\n",
       "      <td>1</td>\n",
       "      <td>0</td>\n",
       "    </tr>\n",
       "    <tr>\n",
       "      <th>1</th>\n",
       "      <td>8</td>\n",
       "      <td>5.92</td>\n",
       "      <td>0.019278</td>\n",
       "      <td>14</td>\n",
       "      <td>48.2692</td>\n",
       "      <td>3</td>\n",
       "      <td>2009</td>\n",
       "      <td>443.4228</td>\n",
       "      <td>0</td>\n",
       "      <td>0</td>\n",
       "      <td>...</td>\n",
       "      <td>0</td>\n",
       "      <td>0</td>\n",
       "      <td>1</td>\n",
       "      <td>0</td>\n",
       "      <td>0</td>\n",
       "      <td>1</td>\n",
       "      <td>0</td>\n",
       "      <td>1</td>\n",
       "      <td>0</td>\n",
       "      <td>0</td>\n",
       "    </tr>\n",
       "    <tr>\n",
       "      <th>2</th>\n",
       "      <td>662</td>\n",
       "      <td>17.50</td>\n",
       "      <td>0.016760</td>\n",
       "      <td>10</td>\n",
       "      <td>141.6180</td>\n",
       "      <td>9</td>\n",
       "      <td>1999</td>\n",
       "      <td>2097.2700</td>\n",
       "      <td>10</td>\n",
       "      <td>1</td>\n",
       "      <td>...</td>\n",
       "      <td>1</td>\n",
       "      <td>0</td>\n",
       "      <td>0</td>\n",
       "      <td>0</td>\n",
       "      <td>1</td>\n",
       "      <td>0</td>\n",
       "      <td>0</td>\n",
       "      <td>0</td>\n",
       "      <td>1</td>\n",
       "      <td>0</td>\n",
       "    </tr>\n",
       "    <tr>\n",
       "      <th>3</th>\n",
       "      <td>1121</td>\n",
       "      <td>19.20</td>\n",
       "      <td>0.066132</td>\n",
       "      <td>6</td>\n",
       "      <td>182.0950</td>\n",
       "      <td>0</td>\n",
       "      <td>1998</td>\n",
       "      <td>732.3800</td>\n",
       "      <td>11</td>\n",
       "      <td>0</td>\n",
       "      <td>...</td>\n",
       "      <td>0</td>\n",
       "      <td>0</td>\n",
       "      <td>1</td>\n",
       "      <td>1</td>\n",
       "      <td>0</td>\n",
       "      <td>0</td>\n",
       "      <td>0</td>\n",
       "      <td>0</td>\n",
       "      <td>1</td>\n",
       "      <td>0</td>\n",
       "    </tr>\n",
       "    <tr>\n",
       "      <th>4</th>\n",
       "      <td>1297</td>\n",
       "      <td>8.93</td>\n",
       "      <td>0.066132</td>\n",
       "      <td>9</td>\n",
       "      <td>53.8614</td>\n",
       "      <td>1</td>\n",
       "      <td>1987</td>\n",
       "      <td>994.7052</td>\n",
       "      <td>22</td>\n",
       "      <td>1</td>\n",
       "      <td>...</td>\n",
       "      <td>0</td>\n",
       "      <td>0</td>\n",
       "      <td>1</td>\n",
       "      <td>0</td>\n",
       "      <td>1</td>\n",
       "      <td>0</td>\n",
       "      <td>0</td>\n",
       "      <td>0</td>\n",
       "      <td>0</td>\n",
       "      <td>1</td>\n",
       "    </tr>\n",
       "  </tbody>\n",
       "</table>\n",
       "<p>5 rows × 24 columns</p>\n",
       "</div>"
      ],
      "text/plain": [
       "   Item_Identifier  Item_Weight  Item_Visibility  Item_Type  Item_MRP  \\\n",
       "0              156         9.30         0.016047          4  249.8092   \n",
       "1                8         5.92         0.019278         14   48.2692   \n",
       "2              662        17.50         0.016760         10  141.6180   \n",
       "3             1121        19.20         0.066132          6  182.0950   \n",
       "4             1297         8.93         0.066132          9   53.8614   \n",
       "\n",
       "   Outlet_Identifier  Outlet_Establishment_Year  Item_Outlet_Sales  \\\n",
       "0                  9                       1999          3735.1380   \n",
       "1                  3                       2009           443.4228   \n",
       "2                  9                       1999          2097.2700   \n",
       "3                  0                       1998           732.3800   \n",
       "4                  1                       1987           994.7052   \n",
       "\n",
       "   Outlet_Years  Item_Fat_Content_Low Fat  ...  Outlet_Location_Type_Tier 1  \\\n",
       "0            10                         1  ...                            1   \n",
       "1             0                         0  ...                            0   \n",
       "2            10                         1  ...                            1   \n",
       "3            11                         0  ...                            0   \n",
       "4            22                         1  ...                            0   \n",
       "\n",
       "   Outlet_Location_Type_Tier 2  Outlet_Location_Type_Tier 3  \\\n",
       "0                            0                            0   \n",
       "1                            0                            1   \n",
       "2                            0                            0   \n",
       "3                            0                            1   \n",
       "4                            0                            1   \n",
       "\n",
       "   Outlet_Type_Grocery Store  Outlet_Type_Supermarket Type1  \\\n",
       "0                          0                              1   \n",
       "1                          0                              0   \n",
       "2                          0                              1   \n",
       "3                          1                              0   \n",
       "4                          0                              1   \n",
       "\n",
       "   Outlet_Type_Supermarket Type2  Outlet_Type_Supermarket Type3  \\\n",
       "0                              0                              0   \n",
       "1                              1                              0   \n",
       "2                              0                              0   \n",
       "3                              0                              0   \n",
       "4                              0                              0   \n",
       "\n",
       "   Item_Category_Drink  Item_Category_Food  Item_Category_Non-Consumable  \n",
       "0                    0                   1                             0  \n",
       "1                    1                   0                             0  \n",
       "2                    0                   1                             0  \n",
       "3                    0                   1                             0  \n",
       "4                    0                   0                             1  \n",
       "\n",
       "[5 rows x 24 columns]"
      ]
     },
     "execution_count": 34,
     "metadata": {},
     "output_type": "execute_result"
    }
   ],
   "source": [
    "train.head()"
   ]
  },
  {
   "cell_type": "code",
   "execution_count": 35,
   "id": "bdf9ce1c",
   "metadata": {
    "ExecuteTime": {
     "end_time": "2023-06-16T02:30:23.975288Z",
     "start_time": "2023-06-16T02:30:23.945307Z"
    }
   },
   "outputs": [
    {
     "data": {
      "text/plain": [
       "Item_Outlet_Sales                1.000000\n",
       "Item_MRP                         0.562986\n",
       "Outlet_Type_Supermarket Type3    0.268777\n",
       "Outlet_Type_Supermarket Type1    0.208240\n",
       "Outlet_Size_Medium               0.208096\n",
       "Outlet_Identifier                0.204211\n",
       "Outlet_Location_Type_Tier 2      0.108938\n",
       "Outlet_Size_High                 0.047451\n",
       "Outlet_Establishment_Year        0.042947\n",
       "Item_Category_Food               0.026047\n",
       "Item_Type                        0.019747\n",
       "Item_Fat_Content_Regular         0.018787\n",
       "Item_Weight                      0.013125\n",
       "Item_Identifier                  0.007701\n",
       "Outlet_Location_Type_Tier 3      0.005067\n",
       "Item_Category_Non-Consumable    -0.001509\n",
       "Outlet_Type_Supermarket Type2   -0.016072\n",
       "Item_Fat_Content_Low Fat        -0.018787\n",
       "Item_Category_Drink             -0.038162\n",
       "Outlet_Years                    -0.042947\n",
       "Outlet_Location_Type_Tier 1     -0.119286\n",
       "Item_Visibility                 -0.120399\n",
       "Outlet_Size_Small               -0.226772\n",
       "Outlet_Type_Grocery Store       -0.534535\n",
       "Name: Item_Outlet_Sales, dtype: float64"
      ]
     },
     "execution_count": 35,
     "metadata": {},
     "output_type": "execute_result"
    }
   ],
   "source": [
    "corr_matrix = train.corr(method = 'spearman')\n",
    "corr_matrix['Item_Outlet_Sales'].sort_values(ascending=False)"
   ]
  },
  {
   "cell_type": "code",
   "execution_count": 36,
   "id": "a3bd75a3",
   "metadata": {
    "ExecuteTime": {
     "end_time": "2023-06-16T02:30:24.148181Z",
     "start_time": "2023-06-16T02:30:23.976287Z"
    }
   },
   "outputs": [
    {
     "data": {
      "image/png": "[encoded data removed]",
      "text/plain": [
       "<Figure size 640x480 with 1 Axes>"
      ]
     },
     "metadata": {},
     "output_type": "display_data"
    }
   ],
   "source": [
    "sns.scatterplot(data=train, x='Item_MRP', y='Item_Outlet_Sales');"
   ]
  },
  {
   "cell_type": "code",
   "execution_count": 37,
   "id": "b5028b96",
   "metadata": {
    "ExecuteTime": {
     "end_time": "2023-06-16T02:30:24.164171Z",
     "start_time": "2023-06-16T02:30:24.150180Z"
    }
   },
   "outputs": [
    {
     "data": {
      "text/plain": [
       "(2912140.938499716, 1706.499615733832)"
      ]
     },
     "execution_count": 37,
     "metadata": {},
     "output_type": "execute_result"
    }
   ],
   "source": [
    "train['Item_Outlet_Sales'].var(), train['Item_Outlet_Sales'].std()"
   ]
  },
  {
   "cell_type": "code",
   "execution_count": 38,
   "id": "8e650214",
   "metadata": {
    "ExecuteTime": {
     "end_time": "2023-06-16T02:30:24.179162Z",
     "start_time": "2023-06-16T02:30:24.166170Z"
    }
   },
   "outputs": [
    {
     "data": {
      "text/plain": [
       "13053.674799999999"
      ]
     },
     "execution_count": 38,
     "metadata": {},
     "output_type": "execute_result"
    }
   ],
   "source": [
    "amplitude = train['Item_Outlet_Sales'].max() - train['Item_Outlet_Sales'].min()\n",
    "amplitude"
   ]
  },
  {
   "cell_type": "code",
   "execution_count": 39,
   "id": "2510e57f",
   "metadata": {
    "ExecuteTime": {
     "end_time": "2023-06-16T02:30:24.194152Z",
     "start_time": "2023-06-16T02:30:24.181161Z"
    }
   },
   "outputs": [
    {
     "data": {
      "text/plain": [
       "2267.049"
      ]
     },
     "execution_count": 39,
     "metadata": {},
     "output_type": "execute_result"
    }
   ],
   "source": [
    "from scipy import stats\n",
    "\n",
    "# interquartile range\n",
    "\n",
    "iqr = stats.iqr(train['Item_Outlet_Sales'], interpolation = 'midpoint')\n",
    "iqr"
   ]
  },
  {
   "cell_type": "code",
   "execution_count": 40,
   "id": "5fd93400",
   "metadata": {
    "ExecuteTime": {
     "end_time": "2023-06-16T02:30:24.210143Z",
     "start_time": "2023-06-16T02:30:24.196151Z"
    }
   },
   "outputs": [
    {
     "data": {
      "text/plain": [
       "1133.5245"
      ]
     },
     "execution_count": 40,
     "metadata": {},
     "output_type": "execute_result"
    }
   ],
   "source": [
    "# Quartile Deviation / median interquartile range\n",
    "\n",
    "qd = iqr / 2\n",
    "qd"
   ]
  },
  {
   "cell_type": "code",
   "execution_count": 41,
   "id": "357e467f",
   "metadata": {
    "ExecuteTime": {
     "end_time": "2023-06-16T02:30:24.726825Z",
     "start_time": "2023-06-16T02:30:24.212142Z"
    }
   },
   "outputs": [],
   "source": [
    "from sklearn.metrics import mean_absolute_percentage_error\n",
    "import scipy.stats as stats\n",
    "from sklearn.linear_model import LinearRegression\n",
    "from sklearn.ensemble import RandomForestRegressor\n",
    "from sklearn.preprocessing import RobustScaler\n",
    "from sklearn.pipeline import make_pipeline\n",
    "from sklearn.model_selection import cross_validate\n",
    "from sklearn.model_selection import cross_val_score\n",
    "from xgboost import XGBRegressor\n",
    "import pmdarima as pm\n",
    "from sklearn.model_selection import train_test_split"
   ]
  },
  {
   "cell_type": "code",
   "execution_count": 42,
   "id": "3666613a",
   "metadata": {
    "ExecuteTime": {
     "end_time": "2023-06-16T02:30:24.742815Z",
     "start_time": "2023-06-16T02:30:24.728822Z"
    }
   },
   "outputs": [],
   "source": [
    "X = train[['Item_MRP', 'Outlet_Type_Supermarket Type3', 'Outlet_Type_Supermarket Type1', 'Outlet_Size_Medium', 'Outlet_Identifier', 'Outlet_Location_Type_Tier 2']]\n",
    "y = train['Item_Outlet_Sales']"
   ]
  },
  {
   "cell_type": "code",
   "execution_count": 43,
   "id": "d6c29ba7",
   "metadata": {
    "ExecuteTime": {
     "end_time": "2023-06-16T02:30:24.757806Z",
     "start_time": "2023-06-16T02:30:24.744813Z"
    }
   },
   "outputs": [],
   "source": [
    "X_train, X_test, y_train, y_test = train_test_split(X, y, test_size=0.2, random_state=42)"
   ]
  },
  {
   "cell_type": "code",
   "execution_count": 44,
   "id": "dc05f6e9",
   "metadata": {
    "ExecuteTime": {
     "end_time": "2023-06-16T02:30:24.773795Z",
     "start_time": "2023-06-16T02:30:24.759804Z"
    }
   },
   "outputs": [
    {
     "data": {
      "text/plain": [
       "((6818, 6), (1705, 6), (6818,), (1705,))"
      ]
     },
     "execution_count": 44,
     "metadata": {},
     "output_type": "execute_result"
    }
   ],
   "source": [
    "X_train.shape, X_test.shape, y_train.shape, y_test.shape"
   ]
  },
  {
   "cell_type": "code",
   "execution_count": 45,
   "id": "e6436066",
   "metadata": {
    "ExecuteTime": {
     "end_time": "2023-06-16T02:30:24.789785Z",
     "start_time": "2023-06-16T02:30:24.775795Z"
    }
   },
   "outputs": [
    {
     "data": {
      "text/html": [
       "<div>\n",
       "<style scoped>\n",
       "    .dataframe tbody tr th:only-of-type {\n",
       "        vertical-align: middle;\n",
       "    }\n",
       "\n",
       "    .dataframe tbody tr th {\n",
       "        vertical-align: top;\n",
       "    }\n",
       "\n",
       "    .dataframe thead th {\n",
       "        text-align: right;\n",
       "    }\n",
       "</style>\n",
       "<table border=\"1\" class=\"dataframe\">\n",
       "  <thead>\n",
       "    <tr style=\"text-align: right;\">\n",
       "      <th></th>\n",
       "      <th>Item_MRP</th>\n",
       "      <th>Outlet_Type_Supermarket Type3</th>\n",
       "      <th>Outlet_Type_Supermarket Type1</th>\n",
       "      <th>Outlet_Size_Medium</th>\n",
       "      <th>Outlet_Identifier</th>\n",
       "      <th>Outlet_Location_Type_Tier 2</th>\n",
       "    </tr>\n",
       "  </thead>\n",
       "  <tbody>\n",
       "    <tr>\n",
       "      <th>0</th>\n",
       "      <td>249.8092</td>\n",
       "      <td>0</td>\n",
       "      <td>1</td>\n",
       "      <td>1</td>\n",
       "      <td>9</td>\n",
       "      <td>0</td>\n",
       "    </tr>\n",
       "    <tr>\n",
       "      <th>1</th>\n",
       "      <td>48.2692</td>\n",
       "      <td>0</td>\n",
       "      <td>0</td>\n",
       "      <td>1</td>\n",
       "      <td>3</td>\n",
       "      <td>0</td>\n",
       "    </tr>\n",
       "    <tr>\n",
       "      <th>2</th>\n",
       "      <td>141.6180</td>\n",
       "      <td>0</td>\n",
       "      <td>1</td>\n",
       "      <td>1</td>\n",
       "      <td>9</td>\n",
       "      <td>0</td>\n",
       "    </tr>\n",
       "    <tr>\n",
       "      <th>3</th>\n",
       "      <td>182.0950</td>\n",
       "      <td>0</td>\n",
       "      <td>0</td>\n",
       "      <td>0</td>\n",
       "      <td>0</td>\n",
       "      <td>0</td>\n",
       "    </tr>\n",
       "    <tr>\n",
       "      <th>4</th>\n",
       "      <td>53.8614</td>\n",
       "      <td>0</td>\n",
       "      <td>1</td>\n",
       "      <td>0</td>\n",
       "      <td>1</td>\n",
       "      <td>0</td>\n",
       "    </tr>\n",
       "  </tbody>\n",
       "</table>\n",
       "</div>"
      ],
      "text/plain": [
       "   Item_MRP  Outlet_Type_Supermarket Type3  Outlet_Type_Supermarket Type1  \\\n",
       "0  249.8092                              0                              1   \n",
       "1   48.2692                              0                              0   \n",
       "2  141.6180                              0                              1   \n",
       "3  182.0950                              0                              0   \n",
       "4   53.8614                              0                              1   \n",
       "\n",
       "   Outlet_Size_Medium  Outlet_Identifier  Outlet_Location_Type_Tier 2  \n",
       "0                   1                  9                            0  \n",
       "1                   1                  3                            0  \n",
       "2                   1                  9                            0  \n",
       "3                   0                  0                            0  \n",
       "4                   0                  1                            0  "
      ]
     },
     "execution_count": 45,
     "metadata": {},
     "output_type": "execute_result"
    }
   ],
   "source": [
    "X.head()"
   ]
  },
  {
   "cell_type": "code",
   "execution_count": 46,
   "id": "2aeda3ca",
   "metadata": {
    "ExecuteTime": {
     "end_time": "2023-06-16T02:30:26.131957Z",
     "start_time": "2023-06-16T02:30:24.791784Z"
    }
   },
   "outputs": [
    {
     "data": {
      "image/png": "[encoded data removed]",
      "text/plain": [
       "<Figure size 1200x800 with 6 Axes>"
      ]
     },
     "metadata": {},
     "output_type": "display_data"
    }
   ],
   "source": [
    "fig, axes = plt.subplots(nrows=2, ncols=3, figsize=(12, 8))\n",
    "\n",
    "# Criando os distplots\n",
    "sns.distplot(X_train['Item_MRP'], ax=axes[0, 0])\n",
    "axes[0, 0].set_title('Item_MRP')\n",
    "\n",
    "sns.distplot(X_train['Outlet_Type_Supermarket Type3'], ax=axes[0, 1])\n",
    "axes[0, 1].set_title('Outlet_Type_Supermarket Type3')\n",
    "\n",
    "sns.distplot(X_train['Outlet_Type_Supermarket Type1'], ax=axes[0, 2])\n",
    "axes[0, 2].set_title('Outlet_Type_Supermarket Type1')\n",
    "\n",
    "sns.distplot(X_train['Outlet_Size_Medium'], ax=axes[1, 0])\n",
    "axes[1, 0].set_title('Outlet_Size_Medium')\n",
    "\n",
    "sns.distplot(X_train['Outlet_Identifier'], ax=axes[1, 1])\n",
    "axes[1, 1].set_title('Outlet_Identifier')\n",
    "\n",
    "sns.distplot(X_train['Outlet_Location_Type_Tier 2'], ax=axes[1, 2])\n",
    "axes[1, 2].set_title('Outlet_Location_Type_Tier 2')\n",
    "\n",
    "# Ajustando o espaçamento entre os subplots\n",
    "plt.tight_layout()\n",
    "\n",
    "# Exibindo o gráfico\n",
    "plt.show()"
   ]
  },
  {
   "cell_type": "code",
   "execution_count": 47,
   "id": "701c88fa",
   "metadata": {
    "ExecuteTime": {
     "end_time": "2023-06-16T02:30:26.147947Z",
     "start_time": "2023-06-16T02:30:26.133955Z"
    }
   },
   "outputs": [],
   "source": [
    "from sklearn.preprocessing import MinMaxScaler\n",
    "\n",
    "transformer = MinMaxScaler()\n",
    "transformer.fit(X_train)\n",
    "X_train_transformed = transformer.transform(X_train)\n",
    "X_test_transformed = transformer.transform(X_test)"
   ]
  },
  {
   "cell_type": "code",
   "execution_count": 48,
   "id": "92a86362",
   "metadata": {
    "ExecuteTime": {
     "end_time": "2023-06-16T02:30:26.163937Z",
     "start_time": "2023-06-16T02:30:26.149945Z"
    }
   },
   "outputs": [
    {
     "data": {
      "text/plain": [
       "((6818, 6), (1705, 6))"
      ]
     },
     "execution_count": 48,
     "metadata": {},
     "output_type": "execute_result"
    }
   ],
   "source": [
    "X_train_transformed.shape, X_test_transformed.shape"
   ]
  },
  {
   "cell_type": "code",
   "execution_count": 49,
   "id": "da106ebe",
   "metadata": {
    "ExecuteTime": {
     "end_time": "2023-06-16T02:30:26.179927Z",
     "start_time": "2023-06-16T02:30:26.164936Z"
    }
   },
   "outputs": [],
   "source": [
    "X_train_transformed = pd.DataFrame(X_train_transformed, columns=X.columns)"
   ]
  },
  {
   "cell_type": "code",
   "execution_count": 50,
   "id": "bfd782d7",
   "metadata": {
    "ExecuteTime": {
     "end_time": "2023-06-16T02:30:26.194918Z",
     "start_time": "2023-06-16T02:30:26.181926Z"
    }
   },
   "outputs": [
    {
     "data": {
      "text/plain": [
       "(0.04462450827189074, 0.0009999999999998899)"
      ]
     },
     "execution_count": 50,
     "metadata": {},
     "output_type": "execute_result"
    }
   ],
   "source": [
    "# Com nível de significância de 0.0009 aceitamos a hipótese alternativa\n",
    "# que Item_MRP não é uma distribuição Gaussiana\n",
    "\n",
    "import statsmodels\n",
    "from statsmodels.stats.diagnostic import lilliefors\n",
    "\n",
    "statsmodels.stats.diagnostic.lilliefors(X_train_transformed['Item_MRP'], dist='norm')"
   ]
  },
  {
   "cell_type": "code",
   "execution_count": 51,
   "id": "e9976a05",
   "metadata": {
    "ExecuteTime": {
     "end_time": "2023-06-16T02:30:26.225900Z",
     "start_time": "2023-06-16T02:30:26.196917Z"
    }
   },
   "outputs": [
    {
     "data": {
      "text/html": [
       "<div>\n",
       "<style scoped>\n",
       "    .dataframe tbody tr th:only-of-type {\n",
       "        vertical-align: middle;\n",
       "    }\n",
       "\n",
       "    .dataframe tbody tr th {\n",
       "        vertical-align: top;\n",
       "    }\n",
       "\n",
       "    .dataframe thead th {\n",
       "        text-align: right;\n",
       "    }\n",
       "</style>\n",
       "<table border=\"1\" class=\"dataframe\">\n",
       "  <thead>\n",
       "    <tr style=\"text-align: right;\">\n",
       "      <th></th>\n",
       "      <th>Item_MRP</th>\n",
       "      <th>Outlet_Type_Supermarket Type3</th>\n",
       "      <th>Outlet_Type_Supermarket Type1</th>\n",
       "      <th>Outlet_Size_Medium</th>\n",
       "      <th>Outlet_Identifier</th>\n",
       "      <th>Outlet_Location_Type_Tier 2</th>\n",
       "    </tr>\n",
       "  </thead>\n",
       "  <tbody>\n",
       "    <tr>\n",
       "      <th>0</th>\n",
       "      <td>0.594464</td>\n",
       "      <td>0.0</td>\n",
       "      <td>1.0</td>\n",
       "      <td>1.0</td>\n",
       "      <td>1.000000</td>\n",
       "      <td>0.0</td>\n",
       "    </tr>\n",
       "    <tr>\n",
       "      <th>1</th>\n",
       "      <td>0.591057</td>\n",
       "      <td>0.0</td>\n",
       "      <td>1.0</td>\n",
       "      <td>0.0</td>\n",
       "      <td>0.777778</td>\n",
       "      <td>1.0</td>\n",
       "    </tr>\n",
       "    <tr>\n",
       "      <th>2</th>\n",
       "      <td>0.341387</td>\n",
       "      <td>0.0</td>\n",
       "      <td>1.0</td>\n",
       "      <td>0.0</td>\n",
       "      <td>0.888889</td>\n",
       "      <td>0.0</td>\n",
       "    </tr>\n",
       "    <tr>\n",
       "      <th>3</th>\n",
       "      <td>0.043819</td>\n",
       "      <td>0.0</td>\n",
       "      <td>1.0</td>\n",
       "      <td>0.0</td>\n",
       "      <td>0.777778</td>\n",
       "      <td>1.0</td>\n",
       "    </tr>\n",
       "    <tr>\n",
       "      <th>4</th>\n",
       "      <td>0.527478</td>\n",
       "      <td>0.0</td>\n",
       "      <td>1.0</td>\n",
       "      <td>0.0</td>\n",
       "      <td>0.888889</td>\n",
       "      <td>0.0</td>\n",
       "    </tr>\n",
       "    <tr>\n",
       "      <th>...</th>\n",
       "      <td>...</td>\n",
       "      <td>...</td>\n",
       "      <td>...</td>\n",
       "      <td>...</td>\n",
       "      <td>...</td>\n",
       "      <td>...</td>\n",
       "    </tr>\n",
       "    <tr>\n",
       "      <th>6813</th>\n",
       "      <td>0.457956</td>\n",
       "      <td>0.0</td>\n",
       "      <td>0.0</td>\n",
       "      <td>0.0</td>\n",
       "      <td>0.000000</td>\n",
       "      <td>0.0</td>\n",
       "    </tr>\n",
       "    <tr>\n",
       "      <th>6814</th>\n",
       "      <td>0.188359</td>\n",
       "      <td>0.0</td>\n",
       "      <td>1.0</td>\n",
       "      <td>0.0</td>\n",
       "      <td>0.222222</td>\n",
       "      <td>1.0</td>\n",
       "    </tr>\n",
       "    <tr>\n",
       "      <th>6815</th>\n",
       "      <td>0.874662</td>\n",
       "      <td>0.0</td>\n",
       "      <td>1.0</td>\n",
       "      <td>0.0</td>\n",
       "      <td>0.777778</td>\n",
       "      <td>1.0</td>\n",
       "    </tr>\n",
       "    <tr>\n",
       "      <th>6816</th>\n",
       "      <td>0.367815</td>\n",
       "      <td>0.0</td>\n",
       "      <td>1.0</td>\n",
       "      <td>0.0</td>\n",
       "      <td>0.222222</td>\n",
       "      <td>1.0</td>\n",
       "    </tr>\n",
       "    <tr>\n",
       "      <th>6817</th>\n",
       "      <td>0.273563</td>\n",
       "      <td>0.0</td>\n",
       "      <td>1.0</td>\n",
       "      <td>0.0</td>\n",
       "      <td>0.888889</td>\n",
       "      <td>0.0</td>\n",
       "    </tr>\n",
       "  </tbody>\n",
       "</table>\n",
       "<p>6818 rows × 6 columns</p>\n",
       "</div>"
      ],
      "text/plain": [
       "      Item_MRP  Outlet_Type_Supermarket Type3  Outlet_Type_Supermarket Type1  \\\n",
       "0     0.594464                            0.0                            1.0   \n",
       "1     0.591057                            0.0                            1.0   \n",
       "2     0.341387                            0.0                            1.0   \n",
       "3     0.043819                            0.0                            1.0   \n",
       "4     0.527478                            0.0                            1.0   \n",
       "...        ...                            ...                            ...   \n",
       "6813  0.457956                            0.0                            0.0   \n",
       "6814  0.188359                            0.0                            1.0   \n",
       "6815  0.874662                            0.0                            1.0   \n",
       "6816  0.367815                            0.0                            1.0   \n",
       "6817  0.273563                            0.0                            1.0   \n",
       "\n",
       "      Outlet_Size_Medium  Outlet_Identifier  Outlet_Location_Type_Tier 2  \n",
       "0                    1.0           1.000000                          0.0  \n",
       "1                    0.0           0.777778                          1.0  \n",
       "2                    0.0           0.888889                          0.0  \n",
       "3                    0.0           0.777778                          1.0  \n",
       "4                    0.0           0.888889                          0.0  \n",
       "...                  ...                ...                          ...  \n",
       "6813                 0.0           0.000000                          0.0  \n",
       "6814                 0.0           0.222222                          1.0  \n",
       "6815                 0.0           0.777778                          1.0  \n",
       "6816                 0.0           0.222222                          1.0  \n",
       "6817                 0.0           0.888889                          0.0  \n",
       "\n",
       "[6818 rows x 6 columns]"
      ]
     },
     "execution_count": 51,
     "metadata": {},
     "output_type": "execute_result"
    }
   ],
   "source": [
    "X_train_transformed"
   ]
  },
  {
   "cell_type": "code",
   "execution_count": 52,
   "id": "30fab24c",
   "metadata": {
    "ExecuteTime": {
     "end_time": "2023-06-16T02:30:26.398793Z",
     "start_time": "2023-06-16T02:30:26.227898Z"
    }
   },
   "outputs": [
    {
     "data": {
      "image/png": "[encoded data removed]",
      "text/plain": [
       "<Figure size 640x480 with 1 Axes>"
      ]
     },
     "metadata": {},
     "output_type": "display_data"
    }
   ],
   "source": [
    "# Mais um teste que demonstra através dos quartis\n",
    "# que a distribuição do Item_MRP não é Gaussiana\n",
    "\n",
    "stats.probplot(X_train_transformed['Item_MRP'], dist='norm', plot=plt)\n",
    "plt.title(\"Normal Q-Q plot\")\n",
    "plt.show()"
   ]
  },
  {
   "cell_type": "code",
   "execution_count": 53,
   "id": "a6ba7a33",
   "metadata": {
    "ExecuteTime": {
     "end_time": "2023-06-16T02:30:26.991427Z",
     "start_time": "2023-06-16T02:30:26.400792Z"
    }
   },
   "outputs": [
    {
     "data": {
      "image/png": "[encoded data removed]",
      "text/plain": [
       "<Figure size 1200x800 with 6 Axes>"
      ]
     },
     "metadata": {},
     "output_type": "display_data"
    }
   ],
   "source": [
    "fig, axes = plt.subplots(nrows=2, ncols=3, figsize=(12, 8))\n",
    "\n",
    "axes[0, 0].boxplot(X_train_transformed['Item_MRP'])\n",
    "axes[0, 0].set_title('Item_MRP')\n",
    "\n",
    "axes[0, 1].boxplot(X_train_transformed['Outlet_Type_Supermarket Type3'])\n",
    "axes[0, 1].set_title('Outlet_Type_Supermarket Type3')\n",
    "\n",
    "axes[0, 2].boxplot(X_train_transformed['Outlet_Type_Supermarket Type1'])\n",
    "axes[0, 2].set_title('Outlet_Type_Supermarket Type1')\n",
    "\n",
    "axes[1, 0].boxplot(X_train_transformed['Outlet_Size_Medium'])\n",
    "axes[1, 0].set_title('Outlet_Size_Medium')\n",
    "\n",
    "axes[1, 1].boxplot(X_train_transformed['Outlet_Identifier'])\n",
    "axes[1, 1].set_title('Outlet_Identifier')\n",
    "\n",
    "axes[1, 2].boxplot(X_train_transformed['Outlet_Location_Type_Tier 2'])\n",
    "axes[1, 2].set_title('Outlet_Location_Type_Tier 2')\n",
    "\n",
    "# Ajustando o espaçamento entre os subplots\n",
    "plt.tight_layout()\n",
    "\n",
    "# Exibindo o gráfico\n",
    "plt.show()"
   ]
  },
  {
   "cell_type": "code",
   "execution_count": 54,
   "id": "bb0ff78b",
   "metadata": {
    "ExecuteTime": {
     "end_time": "2023-06-16T02:30:27.007418Z",
     "start_time": "2023-06-16T02:30:26.993426Z"
    }
   },
   "outputs": [
    {
     "data": {
      "text/plain": [
       "(0.04462450827189074, 0.0009999999999998899)"
      ]
     },
     "execution_count": 54,
     "metadata": {},
     "output_type": "execute_result"
    }
   ],
   "source": [
    "import statsmodels\n",
    "from statsmodels.stats.diagnostic import lilliefors\n",
    "\n",
    "statsmodels.stats.diagnostic.lilliefors(X_train_transformed['Item_MRP'], dist='norm')"
   ]
  },
  {
   "cell_type": "code",
   "execution_count": 55,
   "id": "5b35d6c2",
   "metadata": {
    "ExecuteTime": {
     "end_time": "2023-06-16T02:30:27.179313Z",
     "start_time": "2023-06-16T02:30:27.009416Z"
    }
   },
   "outputs": [
    {
     "data": {
      "image/png": "[encoded data removed]",
      "text/plain": [
       "<Figure size 640x480 with 1 Axes>"
      ]
     },
     "metadata": {},
     "output_type": "display_data"
    }
   ],
   "source": [
    "stats.probplot(X_train_transformed['Item_MRP'], dist='norm', plot=plt)\n",
    "plt.title(\"Normal Q-Q plot\")\n",
    "plt.show()"
   ]
  },
  {
   "cell_type": "markdown",
   "id": "d9f74359",
   "metadata": {},
   "source": [
    "# Linear Regression"
   ]
  },
  {
   "cell_type": "code",
   "execution_count": 56,
   "id": "64946774",
   "metadata": {
    "ExecuteTime": {
     "end_time": "2023-06-16T02:30:27.194303Z",
     "start_time": "2023-06-16T02:30:27.181311Z"
    }
   },
   "outputs": [],
   "source": [
    "reg = LinearRegression().fit(X_train_transformed, y_train)\n",
    "lin_R2 = reg.score(X_test_transformed, y_test)"
   ]
  },
  {
   "cell_type": "code",
   "execution_count": 57,
   "id": "797e697f",
   "metadata": {
    "ExecuteTime": {
     "end_time": "2023-06-16T02:30:27.209294Z",
     "start_time": "2023-06-16T02:30:27.196302Z"
    }
   },
   "outputs": [
    {
     "data": {
      "text/plain": [
       "0.5549173573615445"
      ]
     },
     "execution_count": 57,
     "metadata": {},
     "output_type": "execute_result"
    }
   ],
   "source": [
    "lin_R2"
   ]
  },
  {
   "cell_type": "code",
   "execution_count": 58,
   "id": "c2620398",
   "metadata": {
    "ExecuteTime": {
     "end_time": "2023-06-16T02:30:27.224284Z",
     "start_time": "2023-06-16T02:30:27.211293Z"
    }
   },
   "outputs": [],
   "source": [
    "pipeline = make_pipeline(MinMaxScaler(), reg)"
   ]
  },
  {
   "cell_type": "code",
   "execution_count": 59,
   "id": "fa86d121",
   "metadata": {
    "ExecuteTime": {
     "end_time": "2023-06-16T02:30:27.240275Z",
     "start_time": "2023-06-16T02:30:27.226284Z"
    }
   },
   "outputs": [
    {
     "data": {
      "text/plain": [
       "Pipeline(steps=[('minmaxscaler', MinMaxScaler()),\n",
       "                ('linearregression', LinearRegression())])"
      ]
     },
     "execution_count": 59,
     "metadata": {},
     "output_type": "execute_result"
    }
   ],
   "source": [
    "pipeline.fit(X_train_transformed, y_train)"
   ]
  },
  {
   "cell_type": "code",
   "execution_count": 60,
   "id": "28db6e93",
   "metadata": {
    "ExecuteTime": {
     "end_time": "2023-06-16T02:30:27.256265Z",
     "start_time": "2023-06-16T02:30:27.242274Z"
    }
   },
   "outputs": [],
   "source": [
    "y_hat = pipeline.predict(X_test_transformed)"
   ]
  },
  {
   "cell_type": "code",
   "execution_count": 61,
   "id": "19cbbed3",
   "metadata": {
    "ExecuteTime": {
     "end_time": "2023-06-16T02:30:27.272255Z",
     "start_time": "2023-06-16T02:30:27.258264Z"
    }
   },
   "outputs": [],
   "source": [
    "residuals = y_test - y_hat"
   ]
  },
  {
   "cell_type": "code",
   "execution_count": 62,
   "id": "cfc83fce",
   "metadata": {
    "ExecuteTime": {
     "end_time": "2023-06-16T02:30:27.288245Z",
     "start_time": "2023-06-16T02:30:27.274254Z"
    }
   },
   "outputs": [
    {
     "data": {
      "text/plain": [
       "-22.73378912935713"
      ]
     },
     "execution_count": 62,
     "metadata": {},
     "output_type": "execute_result"
    }
   ],
   "source": [
    "residuals.mean()"
   ]
  },
  {
   "cell_type": "code",
   "execution_count": 63,
   "id": "f26d7f19",
   "metadata": {
    "ExecuteTime": {
     "end_time": "2023-06-16T02:30:27.508110Z",
     "start_time": "2023-06-16T02:30:27.290244Z"
    }
   },
   "outputs": [
    {
     "data": {
      "image/png": "[encoded data removed]",
      "text/plain": [
       "<Figure size 640x480 with 1 Axes>"
      ]
     },
     "metadata": {},
     "output_type": "display_data"
    }
   ],
   "source": [
    "sns.distplot(residuals);"
   ]
  },
  {
   "cell_type": "code",
   "execution_count": 64,
   "id": "99313bd0",
   "metadata": {
    "ExecuteTime": {
     "end_time": "2023-06-16T02:30:27.524100Z",
     "start_time": "2023-06-16T02:30:27.510108Z"
    }
   },
   "outputs": [
    {
     "data": {
      "text/plain": [
       "(0.05322936664015743, 0.0009999999999998899)"
      ]
     },
     "execution_count": 64,
     "metadata": {},
     "output_type": "execute_result"
    }
   ],
   "source": [
    "statsmodels.stats.diagnostic.lilliefors(residuals, dist='norm')"
   ]
  },
  {
   "cell_type": "code",
   "execution_count": 65,
   "id": "a6526da0",
   "metadata": {
    "ExecuteTime": {
     "end_time": "2023-06-16T02:30:27.664013Z",
     "start_time": "2023-06-16T02:30:27.526097Z"
    }
   },
   "outputs": [
    {
     "data": {
      "image/png": "[encoded data removed]",
      "text/plain": [
       "<Figure size 640x480 with 1 Axes>"
      ]
     },
     "metadata": {},
     "output_type": "display_data"
    }
   ],
   "source": [
    "stats.probplot(residuals, dist='norm', plot=plt)\n",
    "plt.title(\"Normal Q-Q plot\")\n",
    "plt.show()"
   ]
  },
  {
   "cell_type": "code",
   "execution_count": 66,
   "id": "fdba6ec4",
   "metadata": {
    "ExecuteTime": {
     "end_time": "2023-06-16T02:30:27.679003Z",
     "start_time": "2023-06-16T02:30:27.666012Z"
    }
   },
   "outputs": [
    {
     "data": {
      "text/plain": [
       "(0.9586614999047645, 0.7303685594192979, 'increasing')"
      ]
     },
     "execution_count": 66,
     "metadata": {},
     "output_type": "execute_result"
    }
   ],
   "source": [
    "# Não temos evidências suficientes para dizer que a heterocedasticidade é um problema no modelo de regressão.\n",
    "# p-value está muito maior que 0.05\n",
    "\n",
    "from statsmodels.stats.diagnostic import het_goldfeldquandt\n",
    "\n",
    "statsmodels.stats.diagnostic.het_goldfeldquandt(y_test, X_test_transformed, idx=None, split=None, drop=None, alternative='increasing', store=False)"
   ]
  },
  {
   "cell_type": "code",
   "execution_count": 67,
   "id": "0d99cff0",
   "metadata": {
    "ExecuteTime": {
     "end_time": "2023-06-16T02:30:27.693993Z",
     "start_time": "2023-06-16T02:30:27.681001Z"
    }
   },
   "outputs": [
    {
     "data": {
      "text/plain": [
       "2.0024575631600414"
      ]
     },
     "execution_count": 67,
     "metadata": {},
     "output_type": "execute_result"
    }
   ],
   "source": [
    "# Teste de durbin_watson testa a correlação entre os dados do resíduo.\n",
    "# resultado = 2 indica ausência de correlação\n",
    "\n",
    "from statsmodels.stats.stattools import durbin_watson\n",
    "\n",
    "durbin_watson(residuals, axis=0)"
   ]
  },
  {
   "cell_type": "code",
   "execution_count": 68,
   "id": "84c0e926",
   "metadata": {
    "ExecuteTime": {
     "end_time": "2023-06-16T02:30:27.709983Z",
     "start_time": "2023-06-16T02:30:27.695992Z"
    }
   },
   "outputs": [],
   "source": [
    "from sklearn.metrics import mean_absolute_percentage_error\n",
    "\n",
    "linreg_mape = mean_absolute_percentage_error(y_test, y_hat)"
   ]
  },
  {
   "cell_type": "markdown",
   "id": "a830b1f0",
   "metadata": {},
   "source": [
    "# Random Forest"
   ]
  },
  {
   "cell_type": "code",
   "execution_count": 69,
   "id": "411ea902",
   "metadata": {
    "ExecuteTime": {
     "end_time": "2023-06-16T02:31:07.179642Z",
     "start_time": "2023-06-16T02:30:27.711982Z"
    }
   },
   "outputs": [
    {
     "data": {
      "text/plain": [
       "RandomForestRegressor(criterion='absolute_error')"
      ]
     },
     "execution_count": 69,
     "metadata": {},
     "output_type": "execute_result"
    }
   ],
   "source": [
    "forest = RandomForestRegressor(n_estimators=100, criterion='absolute_error')\n",
    "forest.fit(X_train_transformed, y_train)"
   ]
  },
  {
   "cell_type": "code",
   "execution_count": 70,
   "id": "fcda0b57",
   "metadata": {
    "ExecuteTime": {
     "end_time": "2023-06-16T02:31:07.241606Z",
     "start_time": "2023-06-16T02:31:07.181639Z"
    }
   },
   "outputs": [
    {
     "data": {
      "text/plain": [
       "0.45663055809696196"
      ]
     },
     "execution_count": 70,
     "metadata": {},
     "output_type": "execute_result"
    }
   ],
   "source": [
    "#Pontuação do R²\n",
    "\n",
    "forest.score(X_test_transformed, y_test)"
   ]
  },
  {
   "cell_type": "code",
   "execution_count": 71,
   "id": "14bcdbf1",
   "metadata": {
    "ExecuteTime": {
     "end_time": "2023-06-16T02:31:18.835452Z",
     "start_time": "2023-06-16T02:31:07.243602Z"
    }
   },
   "outputs": [
    {
     "data": {
      "text/plain": [
       "0.48166907502063105"
      ]
     },
     "execution_count": 71,
     "metadata": {},
     "output_type": "execute_result"
    }
   ],
   "source": [
    "cv_results = cross_val_score(forest, X_test_transformed, y_test).mean()\n",
    "\n",
    "cv_results"
   ]
  },
  {
   "cell_type": "code",
   "execution_count": 72,
   "id": "8044ae89",
   "metadata": {
    "ExecuteTime": {
     "end_time": "2023-06-16T02:31:18.898417Z",
     "start_time": "2023-06-16T02:31:18.836451Z"
    }
   },
   "outputs": [],
   "source": [
    "forest_pred = forest.predict(X_test_transformed)"
   ]
  },
  {
   "cell_type": "code",
   "execution_count": 73,
   "id": "462cee0b",
   "metadata": {
    "ExecuteTime": {
     "end_time": "2023-06-16T02:31:18.914407Z",
     "start_time": "2023-06-16T02:31:18.899413Z"
    }
   },
   "outputs": [
    {
     "data": {
      "text/plain": [
       "array([ 686.835951,  660.27386 ,  719.190502, ...,  731.68091 ,\n",
       "        507.699132, 1537.169079])"
      ]
     },
     "execution_count": 73,
     "metadata": {},
     "output_type": "execute_result"
    }
   ],
   "source": [
    "forest_pred"
   ]
  },
  {
   "cell_type": "code",
   "execution_count": 74,
   "id": "d47412f3",
   "metadata": {
    "ExecuteTime": {
     "end_time": "2023-06-16T02:31:18.930395Z",
     "start_time": "2023-06-16T02:31:18.916400Z"
    }
   },
   "outputs": [],
   "source": [
    "forest_mape = mean_absolute_percentage_error(y_test, forest_pred)"
   ]
  },
  {
   "cell_type": "code",
   "execution_count": 75,
   "id": "84bcd02e",
   "metadata": {
    "ExecuteTime": {
     "end_time": "2023-06-16T02:31:18.946383Z",
     "start_time": "2023-06-16T02:31:18.932391Z"
    }
   },
   "outputs": [
    {
     "data": {
      "text/plain": [
       "0.5954731956156655"
      ]
     },
     "execution_count": 75,
     "metadata": {},
     "output_type": "execute_result"
    }
   ],
   "source": [
    "forest_mape"
   ]
  },
  {
   "cell_type": "code",
   "execution_count": 76,
   "id": "3436ef92",
   "metadata": {
    "ExecuteTime": {
     "end_time": "2023-06-16T02:31:23.303697Z",
     "start_time": "2023-06-16T02:31:18.948382Z"
    }
   },
   "outputs": [
    {
     "data": {
      "image/png": "[encoded data removed]",
      "text/plain": [
       "<Figure size 640x480 with 1 Axes>"
      ]
     },
     "metadata": {},
     "output_type": "display_data"
    }
   ],
   "source": [
    "from sklearn.model_selection import learning_curve\n",
    "\n",
    "X, y = X_train_transformed, y_train\n",
    "\n",
    "# Definir o modelo de aprendizado de máquina\n",
    "model = XGBRegressor()\n",
    "\n",
    "# Gerar as curvas de aprendizado\n",
    "train_sizes, train_scores, test_scores = learning_curve(model, X, y, cv=5)\n",
    "\n",
    "# Calcular as médias e desvios padrão dos scores de treinamento e validação\n",
    "train_scores_mean = np.mean(train_scores, axis=1)\n",
    "train_scores_std = np.std(train_scores, axis=1)\n",
    "test_scores_mean = np.mean(test_scores, axis=1)\n",
    "test_scores_std = np.std(test_scores, axis=1)\n",
    "\n",
    "# Plotar as curvas de aprendizado\n",
    "plt.figure()\n",
    "plt.title(\"Curva de Aprendizado\")\n",
    "plt.xlabel(\"Tamanho do Conjunto de Treinamento\")\n",
    "plt.ylabel(\"Score\")\n",
    "plt.grid()\n",
    "\n",
    "plt.fill_between(train_sizes, train_scores_mean - train_scores_std,\n",
    "                 train_scores_mean + train_scores_std, alpha=0.1,\n",
    "                 color=\"r\")\n",
    "plt.fill_between(train_sizes, test_scores_mean - test_scores_std,\n",
    "                 test_scores_mean + test_scores_std, alpha=0.1, color=\"g\")\n",
    "plt.plot(train_sizes, train_scores_mean, 'o-', color=\"r\",\n",
    "         label=\"Score de Treinamento\")\n",
    "plt.plot(train_sizes, test_scores_mean, 'o-', color=\"g\",\n",
    "         label=\"Score de Validação\")\n",
    "plt.legend(loc=\"best\")\n",
    "\n",
    "plt.show()"
   ]
  },
  {
   "cell_type": "code",
   "execution_count": 77,
   "id": "e31a197a",
   "metadata": {
    "ExecuteTime": {
     "end_time": "2023-06-16T02:31:23.318688Z",
     "start_time": "2023-06-16T02:31:23.305694Z"
    }
   },
   "outputs": [],
   "source": [
    "residuals_forest = y_test - forest_pred"
   ]
  },
  {
   "cell_type": "code",
   "execution_count": 78,
   "id": "e039b4ed",
   "metadata": {
    "ExecuteTime": {
     "end_time": "2023-06-16T02:31:23.555542Z",
     "start_time": "2023-06-16T02:31:23.320685Z"
    }
   },
   "outputs": [
    {
     "data": {
      "image/png": "[encoded data removed]",
      "text/plain": [
       "<Figure size 640x480 with 1 Axes>"
      ]
     },
     "metadata": {},
     "output_type": "display_data"
    }
   ],
   "source": [
    "sns.distplot(residuals_forest);"
   ]
  },
  {
   "cell_type": "code",
   "execution_count": 79,
   "id": "a8455c04",
   "metadata": {
    "ExecuteTime": {
     "end_time": "2023-06-16T02:31:23.571532Z",
     "start_time": "2023-06-16T02:31:23.557538Z"
    }
   },
   "outputs": [
    {
     "data": {
      "text/plain": [
       "-7.635003901466313"
      ]
     },
     "execution_count": 79,
     "metadata": {},
     "output_type": "execute_result"
    }
   ],
   "source": [
    "residuals_forest.mean()"
   ]
  },
  {
   "cell_type": "markdown",
   "id": "f19dd900",
   "metadata": {},
   "source": [
    "# XGBoostRegressor"
   ]
  },
  {
   "cell_type": "code",
   "execution_count": 80,
   "id": "a1bfd881",
   "metadata": {
    "ExecuteTime": {
     "end_time": "2023-06-16T02:31:23.587522Z",
     "start_time": "2023-06-16T02:31:23.573529Z"
    }
   },
   "outputs": [],
   "source": [
    "X_test_transformed = pd.DataFrame(X_test_transformed, columns=X_test.columns)"
   ]
  },
  {
   "cell_type": "code",
   "execution_count": 81,
   "id": "5dd0caa8",
   "metadata": {
    "ExecuteTime": {
     "end_time": "2023-06-16T02:31:24.787778Z",
     "start_time": "2023-06-16T02:31:23.589519Z"
    }
   },
   "outputs": [
    {
     "name": "stdout",
     "output_type": "stream",
     "text": [
      "[0]\tvalidation_0-mape:0.87103\tvalidation_1-mape:0.86787\n",
      "[1]\tvalidation_0-mape:0.76334\tvalidation_1-mape:0.75771\n",
      "[2]\tvalidation_0-mape:0.67724\tvalidation_1-mape:0.67138\n",
      "[3]\tvalidation_0-mape:0.60752\tvalidation_1-mape:0.60152\n",
      "[4]\tvalidation_0-mape:0.55159\tvalidation_1-mape:0.54983\n",
      "[5]\tvalidation_0-mape:0.50696\tvalidation_1-mape:0.51677\n",
      "[6]\tvalidation_0-mape:0.47196\tvalidation_1-mape:0.49528\n",
      "[7]\tvalidation_0-mape:0.44124\tvalidation_1-mape:0.48108\n",
      "[8]\tvalidation_0-mape:0.41356\tvalidation_1-mape:0.47270\n",
      "[9]\tvalidation_0-mape:0.39220\tvalidation_1-mape:0.46684\n",
      "[10]\tvalidation_0-mape:0.37025\tvalidation_1-mape:0.46586\n",
      "[11]\tvalidation_0-mape:0.34939\tvalidation_1-mape:0.46604\n",
      "[12]\tvalidation_0-mape:0.32989\tvalidation_1-mape:0.46844\n",
      "[13]\tvalidation_0-mape:0.31194\tvalidation_1-mape:0.47219\n",
      "[14]\tvalidation_0-mape:0.29544\tvalidation_1-mape:0.47621\n",
      "[15]\tvalidation_0-mape:0.28064\tvalidation_1-mape:0.48157\n",
      "[16]\tvalidation_0-mape:0.26576\tvalidation_1-mape:0.48751\n",
      "[17]\tvalidation_0-mape:0.25153\tvalidation_1-mape:0.49332\n",
      "[18]\tvalidation_0-mape:0.23807\tvalidation_1-mape:0.49987\n",
      "[19]\tvalidation_0-mape:0.22595\tvalidation_1-mape:0.50608\n",
      "[20]\tvalidation_0-mape:0.21432\tvalidation_1-mape:0.51204\n",
      "[21]\tvalidation_0-mape:0.20311\tvalidation_1-mape:0.51816\n",
      "[22]\tvalidation_0-mape:0.19258\tvalidation_1-mape:0.52367\n",
      "[23]\tvalidation_0-mape:0.18287\tvalidation_1-mape:0.52925\n",
      "[24]\tvalidation_0-mape:0.17372\tvalidation_1-mape:0.53475\n",
      "[25]\tvalidation_0-mape:0.16537\tvalidation_1-mape:0.54030\n",
      "[26]\tvalidation_0-mape:0.15724\tvalidation_1-mape:0.54588\n",
      "[27]\tvalidation_0-mape:0.14956\tvalidation_1-mape:0.55092\n",
      "[28]\tvalidation_0-mape:0.14261\tvalidation_1-mape:0.55552\n",
      "[29]\tvalidation_0-mape:0.13570\tvalidation_1-mape:0.55998\n",
      "[30]\tvalidation_0-mape:0.12928\tvalidation_1-mape:0.56445\n",
      "[31]\tvalidation_0-mape:0.12322\tvalidation_1-mape:0.56859\n",
      "[32]\tvalidation_0-mape:0.11751\tvalidation_1-mape:0.57243\n",
      "[33]\tvalidation_0-mape:0.11215\tvalidation_1-mape:0.57677\n",
      "[34]\tvalidation_0-mape:0.10712\tvalidation_1-mape:0.58044\n",
      "[35]\tvalidation_0-mape:0.10245\tvalidation_1-mape:0.58417\n",
      "[36]\tvalidation_0-mape:0.09796\tvalidation_1-mape:0.58746\n",
      "[37]\tvalidation_0-mape:0.09373\tvalidation_1-mape:0.59054\n",
      "[38]\tvalidation_0-mape:0.08969\tvalidation_1-mape:0.59353\n",
      "[39]\tvalidation_0-mape:0.08579\tvalidation_1-mape:0.59642\n",
      "[40]\tvalidation_0-mape:0.08223\tvalidation_1-mape:0.59911\n"
     ]
    },
    {
     "data": {
      "text/plain": [
       "XGBRegressor(base_score=None, booster=None, callbacks=None,\n",
       "             colsample_bylevel=None, colsample_bynode=None,\n",
       "             colsample_bytree=None, early_stopping_rounds=None,\n",
       "             enable_categorical=False, eval_metric=None, feature_types=None,\n",
       "             gamma=None, gpu_id=None, grow_policy=None, importance_type=None,\n",
       "             interaction_constraints=None, learning_rate=0.1, max_bin=None,\n",
       "             max_cat_threshold=None, max_cat_to_onehot=None,\n",
       "             max_delta_step=None, max_depth=100, max_leaves=None,\n",
       "             min_child_weight=None, missing=nan, monotone_constraints=None,\n",
       "             n_estimators=1000, n_jobs=None, num_parallel_tree=None,\n",
       "             predictor=None, random_state=None, ...)"
      ]
     },
     "execution_count": 81,
     "metadata": {},
     "output_type": "execute_result"
    }
   ],
   "source": [
    "xgb_reg = XGBRegressor(max_depth=100, n_estimators=1000, learning_rate=0.1)\n",
    "\n",
    "xgb_reg.fit(X_train_transformed, y_train,\n",
    "            eval_metric='mape',\n",
    "            #Avalia a perda em cada iteração\n",
    "            eval_set=[(X_train_transformed, y_train), (X_test_transformed, y_test)],  \n",
    "            #Para de iterar quando a perda de avaliação aumenta 30 vezes seguidas\n",
    "            early_stopping_rounds=30\n",
    "            )"
   ]
  },
  {
   "cell_type": "code",
   "execution_count": 82,
   "id": "5b0ae70d",
   "metadata": {
    "ExecuteTime": {
     "end_time": "2023-06-16T02:31:24.819759Z",
     "start_time": "2023-06-16T02:31:24.806767Z"
    }
   },
   "outputs": [],
   "source": [
    "xgb_pred = xgb_reg.predict(X_test_transformed)"
   ]
  },
  {
   "cell_type": "code",
   "execution_count": 83,
   "id": "fb18fd81",
   "metadata": {
    "ExecuteTime": {
     "end_time": "2023-06-16T02:31:24.835749Z",
     "start_time": "2023-06-16T02:31:24.821758Z"
    }
   },
   "outputs": [],
   "source": [
    "xgb_mape = mean_absolute_percentage_error(y_test, xgb_pred)"
   ]
  },
  {
   "cell_type": "code",
   "execution_count": 84,
   "id": "89535102",
   "metadata": {
    "ExecuteTime": {
     "end_time": "2023-06-16T02:31:24.851739Z",
     "start_time": "2023-06-16T02:31:24.837748Z"
    }
   },
   "outputs": [
    {
     "data": {
      "text/plain": [
       "0.4658649285345917"
      ]
     },
     "execution_count": 84,
     "metadata": {},
     "output_type": "execute_result"
    }
   ],
   "source": [
    "xgb_mape"
   ]
  },
  {
   "cell_type": "code",
   "execution_count": 85,
   "id": "86df3b89",
   "metadata": {
    "ExecuteTime": {
     "end_time": "2023-06-16T02:31:24.866731Z",
     "start_time": "2023-06-16T02:31:24.853738Z"
    }
   },
   "outputs": [
    {
     "data": {
      "text/plain": [
       "array([ 549.29926,  504.88104,  490.28674, ...,  495.86234,  482.7318 ,\n",
       "       1036.8062 ], dtype=float32)"
      ]
     },
     "execution_count": 85,
     "metadata": {},
     "output_type": "execute_result"
    }
   ],
   "source": [
    "xgb_pred"
   ]
  },
  {
   "cell_type": "code",
   "execution_count": 86,
   "id": "45895c15",
   "metadata": {
    "ExecuteTime": {
     "end_time": "2023-06-16T02:31:24.881720Z",
     "start_time": "2023-06-16T02:31:24.868729Z"
    }
   },
   "outputs": [],
   "source": [
    "xgb_residuals = y_test - xgb_pred"
   ]
  },
  {
   "cell_type": "code",
   "execution_count": 87,
   "id": "54779da4",
   "metadata": {
    "ExecuteTime": {
     "end_time": "2023-06-16T02:31:25.131570Z",
     "start_time": "2023-06-16T02:31:24.883720Z"
    }
   },
   "outputs": [
    {
     "data": {
      "text/plain": [
       "<AxesSubplot:xlabel='Item_Outlet_Sales', ylabel='Density'>"
      ]
     },
     "execution_count": 87,
     "metadata": {},
     "output_type": "execute_result"
    },
    {
     "data": {
      "image/png": "[encoded data removed]",
      "text/plain": [
       "<Figure size 640x480 with 1 Axes>"
      ]
     },
     "metadata": {},
     "output_type": "display_data"
    }
   ],
   "source": [
    "sns.distplot(xgb_residuals)"
   ]
  },
  {
   "cell_type": "code",
   "execution_count": 88,
   "id": "77b76614",
   "metadata": {
    "ExecuteTime": {
     "end_time": "2023-06-16T02:31:25.147558Z",
     "start_time": "2023-06-16T02:31:25.134566Z"
    }
   },
   "outputs": [
    {
     "data": {
      "text/plain": [
       "688.8825451244358"
      ]
     },
     "execution_count": 88,
     "metadata": {},
     "output_type": "execute_result"
    }
   ],
   "source": [
    "xgb_residuals.mean()"
   ]
  },
  {
   "cell_type": "code",
   "execution_count": 89,
   "id": "dfe11772",
   "metadata": {
    "ExecuteTime": {
     "end_time": "2023-06-16T02:31:25.163549Z",
     "start_time": "2023-06-16T02:31:25.150556Z"
    }
   },
   "outputs": [
    {
     "data": {
      "text/plain": [
       "1.4634162501738817"
      ]
     },
     "execution_count": 89,
     "metadata": {},
     "output_type": "execute_result"
    }
   ],
   "source": [
    "# Há Autocorrelação inferior nos resíduos \n",
    "\n",
    "from statsmodels.stats.stattools import durbin_watson\n",
    "\n",
    "durbin_watson(xgb_residuals, axis=0)"
   ]
  },
  {
   "cell_type": "markdown",
   "id": "21d0dc6c",
   "metadata": {},
   "source": [
    "# SVM"
   ]
  },
  {
   "cell_type": "code",
   "execution_count": 90,
   "id": "1b0e8789",
   "metadata": {
    "ExecuteTime": {
     "end_time": "2023-06-16T02:31:25.179539Z",
     "start_time": "2023-06-16T02:31:25.165546Z"
    }
   },
   "outputs": [],
   "source": [
    "from sklearn.svm import SVR\n",
    "svr = SVR(epsilon=0.1, C=1, kernel='poly')"
   ]
  },
  {
   "cell_type": "code",
   "execution_count": 91,
   "id": "9fd3fb02",
   "metadata": {
    "ExecuteTime": {
     "end_time": "2023-06-16T02:31:26.977428Z",
     "start_time": "2023-06-16T02:31:25.182536Z"
    }
   },
   "outputs": [
    {
     "data": {
      "text/plain": [
       "SVR(C=1, kernel='poly')"
      ]
     },
     "execution_count": 91,
     "metadata": {},
     "output_type": "execute_result"
    }
   ],
   "source": [
    "svr.fit(X_train_transformed, y_train)"
   ]
  },
  {
   "cell_type": "code",
   "execution_count": 92,
   "id": "089f5e56",
   "metadata": {
    "ExecuteTime": {
     "end_time": "2023-06-16T02:31:27.210290Z",
     "start_time": "2023-06-16T02:31:26.979427Z"
    }
   },
   "outputs": [
    {
     "data": {
      "text/plain": [
       "0.5091802571723267"
      ]
     },
     "execution_count": 92,
     "metadata": {},
     "output_type": "execute_result"
    }
   ],
   "source": [
    "svr.score(X_test_transformed, y_test)"
   ]
  },
  {
   "cell_type": "code",
   "execution_count": 93,
   "id": "fa407383",
   "metadata": {
    "ExecuteTime": {
     "end_time": "2023-06-16T02:31:27.430154Z",
     "start_time": "2023-06-16T02:31:27.212285Z"
    }
   },
   "outputs": [],
   "source": [
    "svr_predict = svr.predict(X_test_transformed)"
   ]
  },
  {
   "cell_type": "code",
   "execution_count": 94,
   "id": "79600738",
   "metadata": {
    "ExecuteTime": {
     "end_time": "2023-06-16T02:31:27.445145Z",
     "start_time": "2023-06-16T02:31:27.432148Z"
    }
   },
   "outputs": [],
   "source": [
    "svr_mape = mean_absolute_percentage_error(y_test, svr_predict)"
   ]
  },
  {
   "cell_type": "code",
   "execution_count": 95,
   "id": "fa1ee491",
   "metadata": {
    "ExecuteTime": {
     "end_time": "2023-06-16T02:31:27.461135Z",
     "start_time": "2023-06-16T02:31:27.447140Z"
    }
   },
   "outputs": [],
   "source": [
    "svr_residuals = y_test - svr_predict"
   ]
  },
  {
   "cell_type": "code",
   "execution_count": 96,
   "id": "081715d5",
   "metadata": {
    "ExecuteTime": {
     "end_time": "2023-06-16T02:31:27.677997Z",
     "start_time": "2023-06-16T02:31:27.463130Z"
    }
   },
   "outputs": [
    {
     "data": {
      "image/png": "[encoded data removed]",
      "text/plain": [
       "<Figure size 640x480 with 1 Axes>"
      ]
     },
     "metadata": {},
     "output_type": "display_data"
    }
   ],
   "source": [
    "sns.distplot(svr_residuals);"
   ]
  },
  {
   "cell_type": "code",
   "execution_count": 97,
   "id": "42bc679f",
   "metadata": {
    "ExecuteTime": {
     "end_time": "2023-06-16T02:31:27.693992Z",
     "start_time": "2023-06-16T02:31:27.679996Z"
    }
   },
   "outputs": [
    {
     "data": {
      "text/plain": [
       "237.8044845442947"
      ]
     },
     "execution_count": 97,
     "metadata": {},
     "output_type": "execute_result"
    }
   ],
   "source": [
    "svr_residuals.mean()"
   ]
  },
  {
   "cell_type": "code",
   "execution_count": 98,
   "id": "7bf58852",
   "metadata": {
    "ExecuteTime": {
     "end_time": "2023-06-16T02:31:27.709979Z",
     "start_time": "2023-06-16T02:31:27.695985Z"
    }
   },
   "outputs": [
    {
     "data": {
      "text/plain": [
       "1.9235454923578341"
      ]
     },
     "execution_count": 98,
     "metadata": {},
     "output_type": "execute_result"
    }
   ],
   "source": [
    "# Não há evidências de autocorrelação nos resíduos\n",
    "\n",
    "from statsmodels.stats.stattools import durbin_watson\n",
    "\n",
    "durbin_watson(svr_residuals, axis=0)"
   ]
  },
  {
   "cell_type": "code",
   "execution_count": 99,
   "id": "f6c4273c",
   "metadata": {
    "ExecuteTime": {
     "end_time": "2023-06-16T02:31:27.725970Z",
     "start_time": "2023-06-16T02:31:27.711976Z"
    }
   },
   "outputs": [
    {
     "data": {
      "text/plain": [
       "(0.10655035729621609, 0.0009999999999998899)"
      ]
     },
     "execution_count": 99,
     "metadata": {},
     "output_type": "execute_result"
    }
   ],
   "source": [
    "# Distribuição não normal dos resíduos\n",
    "\n",
    "from statsmodels.stats.diagnostic import lilliefors\n",
    "\n",
    "statsmodels.stats.diagnostic.lilliefors(svr_residuals, dist='norm')"
   ]
  },
  {
   "cell_type": "code",
   "execution_count": 100,
   "id": "36924175",
   "metadata": {
    "ExecuteTime": {
     "end_time": "2023-06-16T02:31:27.740958Z",
     "start_time": "2023-06-16T02:31:27.728965Z"
    }
   },
   "outputs": [
    {
     "data": {
      "text/plain": [
       "(0.9586614999047645, 0.7303685594192979, 'increasing')"
      ]
     },
     "execution_count": 100,
     "metadata": {},
     "output_type": "execute_result"
    }
   ],
   "source": [
    "# Não temos evidências suficientes para dizer que a HETEROSCEDASTICIDADE é um problema.\n",
    "# p-value muito maior que 0.05\n",
    "\n",
    "\n",
    "from statsmodels.stats.diagnostic import het_goldfeldquandt\n",
    "\n",
    "statsmodels.stats.diagnostic.het_goldfeldquandt(y_test, X_test_transformed, idx=None, split=None, drop=None, alternative='increasing', store=False)"
   ]
  },
  {
   "cell_type": "markdown",
   "id": "073dda5d",
   "metadata": {},
   "source": [
    "# Deep Learning"
   ]
  },
  {
   "cell_type": "code",
   "execution_count": 101,
   "id": "1ff65827",
   "metadata": {
    "ExecuteTime": {
     "end_time": "2023-06-16T02:34:39.886445Z",
     "start_time": "2023-06-16T02:31:27.742956Z"
    }
   },
   "outputs": [
    {
     "name": "stdout",
     "output_type": "stream",
     "text": [
      "Epoch 1/1000\n",
      "427/427 [==============================] - 3s 3ms/step - loss: 1775.4226 - val_loss: 1011.8768\n",
      "Epoch 2/1000\n",
      "427/427 [==============================] - 1s 2ms/step - loss: 1027.0137 - val_loss: 939.1685\n",
      "Epoch 3/1000\n",
      "427/427 [==============================] - 1s 2ms/step - loss: 972.1678 - val_loss: 897.0482\n",
      "Epoch 4/1000\n",
      "427/427 [==============================] - 1s 2ms/step - loss: 939.2827 - val_loss: 868.4960\n",
      "Epoch 5/1000\n",
      "427/427 [==============================] - 1s 2ms/step - loss: 915.8300 - val_loss: 849.7202\n",
      "Epoch 6/1000\n",
      "427/427 [==============================] - 1s 2ms/step - loss: 900.8380 - val_loss: 835.0028\n",
      "Epoch 7/1000\n",
      "427/427 [==============================] - 1s 2ms/step - loss: 889.1312 - val_loss: 823.3565\n",
      "Epoch 8/1000\n",
      "427/427 [==============================] - 1s 3ms/step - loss: 880.1962 - val_loss: 815.9859\n",
      "Epoch 9/1000\n",
      "427/427 [==============================] - 1s 2ms/step - loss: 874.4091 - val_loss: 810.2103\n",
      "Epoch 10/1000\n",
      "427/427 [==============================] - 1s 2ms/step - loss: 870.5776 - val_loss: 809.3725\n",
      "Epoch 11/1000\n",
      "427/427 [==============================] - 1s 2ms/step - loss: 866.9214 - val_loss: 803.7983\n",
      "Epoch 12/1000\n",
      "427/427 [==============================] - 1s 2ms/step - loss: 863.3314 - val_loss: 801.0255\n",
      "Epoch 13/1000\n",
      "427/427 [==============================] - 1s 2ms/step - loss: 861.1945 - val_loss: 799.4239\n",
      "Epoch 14/1000\n",
      "427/427 [==============================] - 1s 2ms/step - loss: 860.2270 - val_loss: 797.0710\n",
      "Epoch 15/1000\n",
      "427/427 [==============================] - 1s 3ms/step - loss: 858.1282 - val_loss: 797.6604\n",
      "Epoch 16/1000\n",
      "427/427 [==============================] - 1s 3ms/step - loss: 856.6517 - val_loss: 792.5229\n",
      "Epoch 17/1000\n",
      "427/427 [==============================] - 1s 3ms/step - loss: 854.7380 - val_loss: 792.7952\n",
      "Epoch 18/1000\n",
      "427/427 [==============================] - 1s 3ms/step - loss: 853.8287 - val_loss: 793.0150\n",
      "Epoch 19/1000\n",
      "427/427 [==============================] - 2s 4ms/step - loss: 851.3654 - val_loss: 788.4194\n",
      "Epoch 20/1000\n",
      "427/427 [==============================] - 1s 3ms/step - loss: 851.8526 - val_loss: 792.5345\n",
      "Epoch 21/1000\n",
      "427/427 [==============================] - 1s 2ms/step - loss: 817.7513 - val_loss: 753.7636\n",
      "Epoch 22/1000\n",
      "427/427 [==============================] - 1s 3ms/step - loss: 807.4753 - val_loss: 745.6771\n",
      "Epoch 23/1000\n",
      "427/427 [==============================] - 1s 3ms/step - loss: 800.2582 - val_loss: 739.7708\n",
      "Epoch 24/1000\n",
      "427/427 [==============================] - 1s 3ms/step - loss: 798.3065 - val_loss: 738.0951\n",
      "Epoch 25/1000\n",
      "427/427 [==============================] - 1s 3ms/step - loss: 796.5108 - val_loss: 738.5776\n",
      "Epoch 26/1000\n",
      "427/427 [==============================] - 1s 3ms/step - loss: 793.7486 - val_loss: 736.2925\n",
      "Epoch 27/1000\n",
      "427/427 [==============================] - 1s 3ms/step - loss: 792.4119 - val_loss: 733.8937\n",
      "Epoch 28/1000\n",
      "427/427 [==============================] - 1s 3ms/step - loss: 791.4088 - val_loss: 731.9133\n",
      "Epoch 29/1000\n",
      "427/427 [==============================] - 1s 3ms/step - loss: 789.4133 - val_loss: 734.9055\n",
      "Epoch 30/1000\n",
      "427/427 [==============================] - 1s 3ms/step - loss: 787.9191 - val_loss: 732.9356\n",
      "Epoch 31/1000\n",
      "427/427 [==============================] - 1s 3ms/step - loss: 788.9153 - val_loss: 728.8576\n",
      "Epoch 32/1000\n",
      "427/427 [==============================] - 1s 3ms/step - loss: 790.6171 - val_loss: 729.0916\n",
      "Epoch 33/1000\n",
      "427/427 [==============================] - 1s 3ms/step - loss: 785.0891 - val_loss: 727.5682\n",
      "Epoch 34/1000\n",
      "427/427 [==============================] - 1s 3ms/step - loss: 786.3160 - val_loss: 727.8448\n",
      "Epoch 35/1000\n",
      "427/427 [==============================] - 1s 3ms/step - loss: 784.0577 - val_loss: 726.7380\n",
      "Epoch 36/1000\n",
      "427/427 [==============================] - 1s 3ms/step - loss: 786.0514 - val_loss: 729.3371\n",
      "Epoch 37/1000\n",
      "427/427 [==============================] - 1s 3ms/step - loss: 783.8162 - val_loss: 726.3133\n",
      "Epoch 38/1000\n",
      "427/427 [==============================] - 1s 3ms/step - loss: 785.7566 - val_loss: 725.1952\n",
      "Epoch 39/1000\n",
      "427/427 [==============================] - 1s 3ms/step - loss: 781.5132 - val_loss: 724.7739\n",
      "Epoch 40/1000\n",
      "427/427 [==============================] - 1s 3ms/step - loss: 780.5891 - val_loss: 724.7979\n",
      "Epoch 41/1000\n",
      "427/427 [==============================] - 1s 3ms/step - loss: 780.7461 - val_loss: 724.2756\n",
      "Epoch 42/1000\n",
      "427/427 [==============================] - 1s 3ms/step - loss: 781.6157 - val_loss: 723.7222\n",
      "Epoch 43/1000\n",
      "427/427 [==============================] - 1s 3ms/step - loss: 779.1747 - val_loss: 724.2372\n",
      "Epoch 44/1000\n",
      "427/427 [==============================] - 1s 3ms/step - loss: 779.3531 - val_loss: 723.2609\n",
      "Epoch 45/1000\n",
      "427/427 [==============================] - 1s 3ms/step - loss: 779.5972 - val_loss: 722.7105\n",
      "Epoch 46/1000\n",
      "427/427 [==============================] - 1s 3ms/step - loss: 779.1106 - val_loss: 722.5559\n",
      "Epoch 47/1000\n",
      "427/427 [==============================] - 1s 3ms/step - loss: 778.8674 - val_loss: 721.8411\n",
      "Epoch 48/1000\n",
      "427/427 [==============================] - 1s 3ms/step - loss: 777.7051 - val_loss: 721.5684\n",
      "Epoch 49/1000\n",
      "427/427 [==============================] - 1s 3ms/step - loss: 778.0837 - val_loss: 721.0948\n",
      "Epoch 50/1000\n",
      "427/427 [==============================] - 1s 3ms/step - loss: 776.7460 - val_loss: 722.2866\n",
      "Epoch 51/1000\n",
      "427/427 [==============================] - 1s 3ms/step - loss: 777.0745 - val_loss: 720.7253\n",
      "Epoch 52/1000\n",
      "427/427 [==============================] - 1s 3ms/step - loss: 777.7635 - val_loss: 720.4158\n",
      "Epoch 53/1000\n",
      "427/427 [==============================] - 1s 3ms/step - loss: 775.5894 - val_loss: 723.4831\n",
      "Epoch 54/1000\n",
      "427/427 [==============================] - 1s 3ms/step - loss: 786.8672 - val_loss: 721.4270\n",
      "Epoch 55/1000\n",
      "427/427 [==============================] - 1s 3ms/step - loss: 775.1782 - val_loss: 720.8329\n",
      "Epoch 56/1000\n",
      "427/427 [==============================] - 1s 3ms/step - loss: 774.8621 - val_loss: 721.8524\n",
      "Epoch 57/1000\n",
      "427/427 [==============================] - 1s 3ms/step - loss: 774.4197 - val_loss: 720.5308\n",
      "Epoch 58/1000\n",
      "427/427 [==============================] - 1s 3ms/step - loss: 774.6564 - val_loss: 719.0179\n",
      "Epoch 59/1000\n",
      "427/427 [==============================] - 1s 2ms/step - loss: 774.4010 - val_loss: 722.2751\n",
      "Epoch 60/1000\n",
      "427/427 [==============================] - 1s 2ms/step - loss: 778.7081 - val_loss: 719.9348\n",
      "Epoch 61/1000\n",
      "427/427 [==============================] - 1s 2ms/step - loss: 774.1802 - val_loss: 719.6968\n",
      "Epoch 62/1000\n",
      "427/427 [==============================] - 1s 2ms/step - loss: 773.4395 - val_loss: 723.6089\n",
      "Epoch 63/1000\n",
      "427/427 [==============================] - 1s 2ms/step - loss: 774.5187 - val_loss: 721.1874\n",
      "Epoch 64/1000\n",
      "427/427 [==============================] - 1s 2ms/step - loss: 773.7089 - val_loss: 718.0721\n",
      "Epoch 65/1000\n",
      "427/427 [==============================] - 1s 2ms/step - loss: 772.7319 - val_loss: 721.3616\n",
      "Epoch 66/1000\n",
      "427/427 [==============================] - 1s 2ms/step - loss: 772.6815 - val_loss: 718.3623\n",
      "Epoch 67/1000\n",
      "427/427 [==============================] - 1s 2ms/step - loss: 772.7217 - val_loss: 718.1985\n",
      "Epoch 68/1000\n",
      "427/427 [==============================] - 1s 2ms/step - loss: 773.5517 - val_loss: 718.0969\n",
      "Epoch 69/1000\n",
      "427/427 [==============================] - 1s 2ms/step - loss: 776.6132 - val_loss: 717.2043\n",
      "Epoch 70/1000\n",
      "427/427 [==============================] - 1s 2ms/step - loss: 771.6383 - val_loss: 721.6205\n",
      "Epoch 71/1000\n",
      "427/427 [==============================] - 1s 2ms/step - loss: 772.2907 - val_loss: 717.7548\n",
      "Epoch 72/1000\n",
      "427/427 [==============================] - 1s 2ms/step - loss: 771.7763 - val_loss: 720.4333\n",
      "Epoch 73/1000\n",
      "427/427 [==============================] - 1s 2ms/step - loss: 772.0401 - val_loss: 716.7361\n",
      "Epoch 74/1000\n",
      "427/427 [==============================] - 1s 2ms/step - loss: 774.9175 - val_loss: 721.8166\n",
      "Epoch 75/1000\n",
      "427/427 [==============================] - 1s 2ms/step - loss: 771.7657 - val_loss: 716.9694\n",
      "Epoch 76/1000\n",
      "427/427 [==============================] - 1s 2ms/step - loss: 771.0178 - val_loss: 720.8631\n",
      "Epoch 77/1000\n"
     ]
    },
    {
     "name": "stdout",
     "output_type": "stream",
     "text": [
      "427/427 [==============================] - 1s 2ms/step - loss: 770.7835 - val_loss: 715.6763\n",
      "Epoch 78/1000\n",
      "427/427 [==============================] - 1s 2ms/step - loss: 770.3901 - val_loss: 717.4556\n",
      "Epoch 79/1000\n",
      "427/427 [==============================] - 1s 3ms/step - loss: 770.7961 - val_loss: 716.0672\n",
      "Epoch 80/1000\n",
      "427/427 [==============================] - 1s 3ms/step - loss: 772.6979 - val_loss: 715.2696\n",
      "Epoch 81/1000\n",
      "427/427 [==============================] - 1s 2ms/step - loss: 769.2432 - val_loss: 715.8589\n",
      "Epoch 82/1000\n",
      "427/427 [==============================] - 1s 2ms/step - loss: 769.6044 - val_loss: 715.0511\n",
      "Epoch 83/1000\n",
      "427/427 [==============================] - 1s 2ms/step - loss: 770.4569 - val_loss: 715.3044\n",
      "Epoch 84/1000\n",
      "427/427 [==============================] - 1s 2ms/step - loss: 776.4191 - val_loss: 715.3004\n",
      "Epoch 85/1000\n",
      "427/427 [==============================] - 1s 2ms/step - loss: 768.9297 - val_loss: 714.9713\n",
      "Epoch 86/1000\n",
      "427/427 [==============================] - 1s 2ms/step - loss: 768.5434 - val_loss: 718.2139\n",
      "Epoch 87/1000\n",
      "427/427 [==============================] - 1s 2ms/step - loss: 769.0797 - val_loss: 715.1039\n",
      "Epoch 88/1000\n",
      "427/427 [==============================] - 1s 2ms/step - loss: 768.6478 - val_loss: 714.1600\n",
      "Epoch 89/1000\n",
      "427/427 [==============================] - 1s 2ms/step - loss: 768.3294 - val_loss: 714.4352\n",
      "Epoch 90/1000\n",
      "427/427 [==============================] - 1s 2ms/step - loss: 768.6791 - val_loss: 713.9346\n",
      "Epoch 91/1000\n",
      "427/427 [==============================] - 1s 2ms/step - loss: 769.0161 - val_loss: 714.3025\n",
      "Epoch 92/1000\n",
      "427/427 [==============================] - 1s 2ms/step - loss: 768.2707 - val_loss: 713.4977\n",
      "Epoch 93/1000\n",
      "427/427 [==============================] - 1s 2ms/step - loss: 767.2156 - val_loss: 715.2413\n",
      "Epoch 94/1000\n",
      "427/427 [==============================] - 1s 2ms/step - loss: 767.8176 - val_loss: 713.7918\n",
      "Epoch 95/1000\n",
      "427/427 [==============================] - 1s 2ms/step - loss: 767.5273 - val_loss: 713.3317\n",
      "Epoch 96/1000\n",
      "427/427 [==============================] - 1s 2ms/step - loss: 769.0826 - val_loss: 714.5605\n",
      "Epoch 97/1000\n",
      "427/427 [==============================] - 1s 2ms/step - loss: 766.6108 - val_loss: 714.3119\n",
      "Epoch 98/1000\n",
      "427/427 [==============================] - 1s 2ms/step - loss: 766.6493 - val_loss: 712.9323\n",
      "Epoch 99/1000\n",
      "427/427 [==============================] - 1s 2ms/step - loss: 767.3822 - val_loss: 713.1396\n",
      "Epoch 100/1000\n",
      "427/427 [==============================] - 1s 2ms/step - loss: 766.5564 - val_loss: 713.4906\n",
      "Epoch 101/1000\n",
      "427/427 [==============================] - 1s 2ms/step - loss: 766.5026 - val_loss: 712.5558\n",
      "Epoch 102/1000\n",
      "427/427 [==============================] - 1s 2ms/step - loss: 771.0048 - val_loss: 713.3146\n",
      "Epoch 103/1000\n",
      "427/427 [==============================] - 1s 2ms/step - loss: 764.7934 - val_loss: 713.2974\n",
      "Epoch 104/1000\n",
      "427/427 [==============================] - 1s 2ms/step - loss: 765.9499 - val_loss: 712.7927\n",
      "Epoch 105/1000\n",
      "427/427 [==============================] - 1s 2ms/step - loss: 767.4182 - val_loss: 715.2667\n",
      "Epoch 106/1000\n",
      "427/427 [==============================] - 1s 2ms/step - loss: 765.4130 - val_loss: 713.7118\n",
      "Epoch 107/1000\n",
      "427/427 [==============================] - 1s 2ms/step - loss: 764.7142 - val_loss: 712.3938\n",
      "Epoch 108/1000\n",
      "427/427 [==============================] - 1s 2ms/step - loss: 764.7410 - val_loss: 711.8316\n",
      "Epoch 109/1000\n",
      "427/427 [==============================] - 1s 2ms/step - loss: 764.6340 - val_loss: 711.7471\n",
      "Epoch 110/1000\n",
      "427/427 [==============================] - 1s 2ms/step - loss: 765.7208 - val_loss: 711.5785\n",
      "Epoch 111/1000\n",
      "427/427 [==============================] - 1s 2ms/step - loss: 764.8438 - val_loss: 711.3599\n",
      "Epoch 112/1000\n",
      "427/427 [==============================] - 1s 2ms/step - loss: 764.7499 - val_loss: 711.5303\n",
      "Epoch 113/1000\n",
      "427/427 [==============================] - 1s 2ms/step - loss: 763.5878 - val_loss: 711.8747\n",
      "Epoch 114/1000\n",
      "427/427 [==============================] - 1s 2ms/step - loss: 771.3986 - val_loss: 712.7315\n",
      "Epoch 115/1000\n",
      "427/427 [==============================] - 1s 2ms/step - loss: 764.0512 - val_loss: 711.4820\n",
      "Epoch 116/1000\n",
      "427/427 [==============================] - 1s 2ms/step - loss: 763.4599 - val_loss: 711.2103\n",
      "Epoch 117/1000\n",
      "427/427 [==============================] - 1s 2ms/step - loss: 763.3984 - val_loss: 711.6282\n",
      "Epoch 118/1000\n",
      "427/427 [==============================] - 1s 2ms/step - loss: 763.9672 - val_loss: 710.7355\n",
      "Epoch 119/1000\n",
      "427/427 [==============================] - 1s 2ms/step - loss: 763.1115 - val_loss: 712.1680\n",
      "Epoch 120/1000\n",
      "427/427 [==============================] - 1s 2ms/step - loss: 764.0361 - val_loss: 715.4863\n",
      "Epoch 121/1000\n",
      "427/427 [==============================] - 1s 2ms/step - loss: 762.6918 - val_loss: 713.4824\n",
      "Epoch 122/1000\n",
      "427/427 [==============================] - 1s 2ms/step - loss: 764.1041 - val_loss: 711.6760\n",
      "Epoch 123/1000\n",
      "427/427 [==============================] - 1s 2ms/step - loss: 763.6180 - val_loss: 711.5579\n",
      "Epoch 124/1000\n",
      "427/427 [==============================] - 1s 2ms/step - loss: 763.8261 - val_loss: 711.3254\n",
      "Epoch 125/1000\n",
      "427/427 [==============================] - 1s 2ms/step - loss: 763.1282 - val_loss: 710.7458\n",
      "Epoch 126/1000\n",
      "427/427 [==============================] - 1s 2ms/step - loss: 765.5836 - val_loss: 709.9457\n",
      "Epoch 127/1000\n",
      "427/427 [==============================] - 1s 2ms/step - loss: 762.7474 - val_loss: 710.5947\n",
      "Epoch 128/1000\n",
      "427/427 [==============================] - 1s 2ms/step - loss: 762.0560 - val_loss: 710.7938\n",
      "Epoch 129/1000\n",
      "427/427 [==============================] - 1s 2ms/step - loss: 762.8243 - val_loss: 711.5392\n",
      "Epoch 130/1000\n",
      "427/427 [==============================] - 1s 2ms/step - loss: 762.7598 - val_loss: 709.6295\n",
      "Epoch 131/1000\n",
      "427/427 [==============================] - 1s 2ms/step - loss: 762.2485 - val_loss: 709.6449\n",
      "Epoch 132/1000\n",
      "427/427 [==============================] - 1s 2ms/step - loss: 761.7406 - val_loss: 710.9258\n",
      "Epoch 133/1000\n",
      "427/427 [==============================] - 1s 2ms/step - loss: 762.1105 - val_loss: 715.7571\n",
      "Epoch 134/1000\n",
      "427/427 [==============================] - 1s 2ms/step - loss: 762.0349 - val_loss: 710.7468\n",
      "Epoch 135/1000\n",
      "427/427 [==============================] - 1s 2ms/step - loss: 762.2641 - val_loss: 709.6183\n",
      "Epoch 136/1000\n",
      "427/427 [==============================] - 1s 2ms/step - loss: 762.0057 - val_loss: 709.7146\n",
      "Epoch 137/1000\n",
      "427/427 [==============================] - 1s 3ms/step - loss: 760.8316 - val_loss: 715.2981\n",
      "Epoch 138/1000\n",
      "427/427 [==============================] - 1s 3ms/step - loss: 761.8132 - val_loss: 709.1663\n",
      "Epoch 139/1000\n",
      "427/427 [==============================] - 1s 3ms/step - loss: 761.6049 - val_loss: 711.1399\n",
      "Epoch 140/1000\n",
      "427/427 [==============================] - 1s 3ms/step - loss: 760.3309 - val_loss: 710.3323\n",
      "Epoch 141/1000\n",
      "427/427 [==============================] - 1s 3ms/step - loss: 761.6270 - val_loss: 709.6545\n",
      "Epoch 142/1000\n",
      "427/427 [==============================] - 1s 3ms/step - loss: 761.7580 - val_loss: 709.7946\n",
      "Epoch 143/1000\n",
      "427/427 [==============================] - 1s 3ms/step - loss: 761.3385 - val_loss: 709.3907\n",
      "Epoch 144/1000\n",
      "427/427 [==============================] - 1s 3ms/step - loss: 762.1008 - val_loss: 708.8029\n",
      "Epoch 145/1000\n",
      "427/427 [==============================] - 1s 3ms/step - loss: 761.4584 - val_loss: 710.0803\n",
      "Epoch 146/1000\n",
      "427/427 [==============================] - 1s 3ms/step - loss: 760.8866 - val_loss: 709.6705\n",
      "Epoch 147/1000\n",
      "427/427 [==============================] - 1s 3ms/step - loss: 761.2745 - val_loss: 708.8607\n",
      "Epoch 148/1000\n",
      "427/427 [==============================] - 1s 3ms/step - loss: 761.1230 - val_loss: 708.9452\n",
      "Epoch 149/1000\n",
      "427/427 [==============================] - 1s 3ms/step - loss: 760.7123 - val_loss: 708.7140\n",
      "Epoch 150/1000\n",
      "427/427 [==============================] - 1s 3ms/step - loss: 761.4112 - val_loss: 708.7632\n",
      "Epoch 151/1000\n",
      "427/427 [==============================] - 1s 3ms/step - loss: 760.3212 - val_loss: 710.2546\n",
      "Epoch 152/1000\n",
      "427/427 [==============================] - 1s 3ms/step - loss: 761.0715 - val_loss: 711.2861\n",
      "Epoch 153/1000\n"
     ]
    },
    {
     "name": "stdout",
     "output_type": "stream",
     "text": [
      "427/427 [==============================] - 1s 3ms/step - loss: 761.4533 - val_loss: 708.7889\n",
      "Epoch 154/1000\n",
      "427/427 [==============================] - 1s 3ms/step - loss: 760.3378 - val_loss: 709.4402\n",
      "Epoch 155/1000\n",
      "427/427 [==============================] - 1s 3ms/step - loss: 760.8338 - val_loss: 709.3392\n",
      "Epoch 156/1000\n",
      "427/427 [==============================] - 1s 3ms/step - loss: 760.9451 - val_loss: 709.3259\n",
      "Epoch 157/1000\n",
      "427/427 [==============================] - 1s 3ms/step - loss: 760.6726 - val_loss: 710.4316\n",
      "Epoch 158/1000\n",
      "427/427 [==============================] - 1s 3ms/step - loss: 760.7413 - val_loss: 710.7505\n",
      "Epoch 159/1000\n",
      "427/427 [==============================] - 1s 3ms/step - loss: 761.1081 - val_loss: 708.3346\n",
      "Epoch 160/1000\n",
      "427/427 [==============================] - 1s 3ms/step - loss: 760.3129 - val_loss: 708.3028\n",
      "Epoch 161/1000\n",
      "427/427 [==============================] - 1s 3ms/step - loss: 761.0614 - val_loss: 709.9712\n",
      "Epoch 162/1000\n",
      "427/427 [==============================] - 1s 3ms/step - loss: 759.9575 - val_loss: 711.1833\n",
      "Epoch 163/1000\n",
      "427/427 [==============================] - 1s 3ms/step - loss: 761.0209 - val_loss: 709.5932\n",
      "Epoch 164/1000\n",
      "427/427 [==============================] - 1s 3ms/step - loss: 760.2550 - val_loss: 708.9942\n",
      "Epoch 165/1000\n",
      "427/427 [==============================] - 1s 3ms/step - loss: 760.2816 - val_loss: 713.1475\n",
      "Epoch 166/1000\n",
      "427/427 [==============================] - 1s 3ms/step - loss: 760.1920 - val_loss: 708.7160\n",
      "Epoch 167/1000\n",
      "427/427 [==============================] - 1s 3ms/step - loss: 759.5412 - val_loss: 710.3297\n",
      "Epoch 168/1000\n",
      "427/427 [==============================] - 1s 3ms/step - loss: 759.8574 - val_loss: 711.4573\n",
      "Epoch 169/1000\n",
      "427/427 [==============================] - 1s 3ms/step - loss: 760.5094 - val_loss: 709.5302\n",
      "Epoch 170/1000\n",
      "427/427 [==============================] - 1s 2ms/step - loss: 760.3718 - val_loss: 709.8228\n"
     ]
    },
    {
     "data": {
      "text/plain": [
       "<keras.callbacks.History at 0x3c3de610>"
      ]
     },
     "execution_count": 101,
     "metadata": {},
     "output_type": "execute_result"
    }
   ],
   "source": [
    "from tensorflow.keras.layers import LSTM\n",
    "from tensorflow.keras.models import Sequential\n",
    "from tensorflow.keras import layers, callbacks\n",
    "\n",
    "# Deep learning LSTM(Long Short Term Memory).\n",
    "# batch_size=16 pega 16 amostras por teste.\n",
    "# epochs=1000 quantidade de vezes que será treinado.\n",
    "# Validation_split=0.3 separa 30% dos dados para o conjunto de validação.\n",
    "\n",
    "deepLSTM = Sequential()\n",
    "deepLSTM.add(LSTM(units=3, activation='relu', input_shape=(6,1)))\n",
    "deepLSTM.add(layers.Dense(1, activation=\"linear\"))\n",
    "\n",
    "deepLSTM.compile(loss='mae', optimizer='adam')\n",
    "\n",
    "es = callbacks.EarlyStopping(patience=10, restore_best_weights=True)\n",
    "\n",
    "deepLSTM.fit(X_train_transformed, y_train,\n",
    "          batch_size=16,\n",
    "          epochs=1000,\n",
    "          validation_split=0.3,\n",
    "          callbacks=[es],\n",
    "          verbose=1,\n",
    "          validation_data=(X_test_transformed, y_test))"
   ]
  },
  {
   "cell_type": "code",
   "execution_count": 102,
   "id": "359b1b0a",
   "metadata": {
    "ExecuteTime": {
     "end_time": "2023-06-16T02:34:40.235233Z",
     "start_time": "2023-06-16T02:34:39.888444Z"
    }
   },
   "outputs": [
    {
     "name": "stdout",
     "output_type": "stream",
     "text": [
      "54/54 [==============================] - 0s 1ms/step\n"
     ]
    }
   ],
   "source": [
    "deepLSTMpred = deepLSTM.predict(X_test_transformed)"
   ]
  },
  {
   "cell_type": "code",
   "execution_count": 103,
   "id": "da484825",
   "metadata": {
    "ExecuteTime": {
     "end_time": "2023-06-16T02:34:40.251223Z",
     "start_time": "2023-06-16T02:34:40.237229Z"
    }
   },
   "outputs": [],
   "source": [
    "deep_LSTM_mape = mean_absolute_percentage_error(y_test, deepLSTMpred)"
   ]
  },
  {
   "cell_type": "code",
   "execution_count": 104,
   "id": "7be6d490",
   "metadata": {
    "ExecuteTime": {
     "end_time": "2023-06-16T02:34:40.442105Z",
     "start_time": "2023-06-16T02:34:40.252221Z"
    }
   },
   "outputs": [
    {
     "data": {
      "text/html": [
       "\n",
       "    <style>\n",
       "    table.eli5-weights tr:hover {\n",
       "        filter: brightness(85%);\n",
       "    }\n",
       "</style>\n",
       "\n",
       "\n",
       "\n",
       "    \n",
       "\n",
       "    \n",
       "\n",
       "    \n",
       "\n",
       "    \n",
       "\n",
       "    \n",
       "\n",
       "    \n",
       "\n",
       "\n",
       "    \n",
       "\n",
       "    \n",
       "\n",
       "    \n",
       "\n",
       "    \n",
       "\n",
       "    \n",
       "\n",
       "    \n",
       "\n",
       "\n",
       "    \n",
       "\n",
       "    \n",
       "\n",
       "    \n",
       "\n",
       "    \n",
       "\n",
       "    \n",
       "        <table class=\"eli5-weights eli5-feature-importances\" style=\"border-collapse: collapse; border: none; margin-top: 0em; table-layout: auto;\">\n",
       "    <thead>\n",
       "    <tr style=\"border: none;\">\n",
       "        <th style=\"padding: 0 1em 0 0.5em; text-align: right; border: none;\">Weight</th>\n",
       "        <th style=\"padding: 0 0.5em 0 0.5em; text-align: left; border: none;\">Feature</th>\n",
       "    </tr>\n",
       "    </thead>\n",
       "    <tbody>\n",
       "    \n",
       "        <tr style=\"background-color: hsl(120, 100.00%, 80.00%); border: none;\">\n",
       "            <td style=\"padding: 0 1em 0 0.5em; text-align: right; border: none;\">\n",
       "                0.7195\n",
       "                \n",
       "                    &plusmn; 0.0171\n",
       "                \n",
       "            </td>\n",
       "            <td style=\"padding: 0 0.5em 0 0.5em; text-align: left; border: none;\">\n",
       "                Item_MRP\n",
       "            </td>\n",
       "        </tr>\n",
       "    \n",
       "        <tr style=\"background-color: hsl(120, 100.00%, 93.13%); border: none;\">\n",
       "            <td style=\"padding: 0 1em 0 0.5em; text-align: right; border: none;\">\n",
       "                0.1564\n",
       "                \n",
       "                    &plusmn; 0.0379\n",
       "                \n",
       "            </td>\n",
       "            <td style=\"padding: 0 0.5em 0 0.5em; text-align: left; border: none;\">\n",
       "                Outlet_Identifier\n",
       "            </td>\n",
       "        </tr>\n",
       "    \n",
       "        <tr style=\"background-color: hsl(120, 100.00%, 96.93%); border: none;\">\n",
       "            <td style=\"padding: 0 1em 0 0.5em; text-align: right; border: none;\">\n",
       "                0.0494\n",
       "                \n",
       "                    &plusmn; 0.0077\n",
       "                \n",
       "            </td>\n",
       "            <td style=\"padding: 0 0.5em 0 0.5em; text-align: left; border: none;\">\n",
       "                Outlet_Type_Supermarket Type3\n",
       "            </td>\n",
       "        </tr>\n",
       "    \n",
       "        <tr style=\"background-color: hsl(120, 100.00%, 97.67%); border: none;\">\n",
       "            <td style=\"padding: 0 1em 0 0.5em; text-align: right; border: none;\">\n",
       "                0.0334\n",
       "                \n",
       "                    &plusmn; 0.0315\n",
       "                \n",
       "            </td>\n",
       "            <td style=\"padding: 0 0.5em 0 0.5em; text-align: left; border: none;\">\n",
       "                Outlet_Size_Medium\n",
       "            </td>\n",
       "        </tr>\n",
       "    \n",
       "        <tr style=\"background-color: hsl(120, 100.00%, 97.89%); border: none;\">\n",
       "            <td style=\"padding: 0 1em 0 0.5em; text-align: right; border: none;\">\n",
       "                0.0289\n",
       "                \n",
       "                    &plusmn; 0.0068\n",
       "                \n",
       "            </td>\n",
       "            <td style=\"padding: 0 0.5em 0 0.5em; text-align: left; border: none;\">\n",
       "                Outlet_Type_Supermarket Type1\n",
       "            </td>\n",
       "        </tr>\n",
       "    \n",
       "        <tr style=\"background-color: hsl(120, 100.00%, 98.83%); border: none;\">\n",
       "            <td style=\"padding: 0 1em 0 0.5em; text-align: right; border: none;\">\n",
       "                0.0125\n",
       "                \n",
       "                    &plusmn; 0.0041\n",
       "                \n",
       "            </td>\n",
       "            <td style=\"padding: 0 0.5em 0 0.5em; text-align: left; border: none;\">\n",
       "                Outlet_Location_Type_Tier 2\n",
       "            </td>\n",
       "        </tr>\n",
       "    \n",
       "    \n",
       "    </tbody>\n",
       "</table>\n",
       "    \n",
       "\n",
       "    \n",
       "\n",
       "\n",
       "    \n",
       "\n",
       "    \n",
       "\n",
       "    \n",
       "\n",
       "    \n",
       "\n",
       "    \n",
       "\n",
       "    \n",
       "\n",
       "\n",
       "\n"
      ],
      "text/plain": [
       "<IPython.core.display.HTML object>"
      ]
     },
     "execution_count": 104,
     "metadata": {},
     "output_type": "execute_result"
    }
   ],
   "source": [
    "import eli5\n",
    "from eli5 import show_prediction\n",
    "\n",
    "eli5.show_weights(forest, feature_names = list(X_test_transformed))"
   ]
  },
  {
   "cell_type": "code",
   "execution_count": 105,
   "id": "856c5549",
   "metadata": {
    "ExecuteTime": {
     "end_time": "2023-06-16T02:34:40.647977Z",
     "start_time": "2023-06-16T02:34:40.444102Z"
    }
   },
   "outputs": [
    {
     "data": {
      "text/html": [
       "\n",
       "    <style>\n",
       "    table.eli5-weights tr:hover {\n",
       "        filter: brightness(85%);\n",
       "    }\n",
       "</style>\n",
       "\n",
       "\n",
       "\n",
       "    \n",
       "\n",
       "    \n",
       "\n",
       "    \n",
       "\n",
       "    \n",
       "\n",
       "    \n",
       "\n",
       "    \n",
       "\n",
       "\n",
       "    \n",
       "\n",
       "    \n",
       "\n",
       "    \n",
       "\n",
       "    \n",
       "        \n",
       "\n",
       "    \n",
       "\n",
       "        \n",
       "            \n",
       "                \n",
       "                \n",
       "    \n",
       "        <p style=\"margin-bottom: 0.5em; margin-top: 0em\">\n",
       "            <b>\n",
       "    \n",
       "        y\n",
       "    \n",
       "</b>\n",
       "\n",
       "    \n",
       "    (score <b>3441.214</b>)\n",
       "\n",
       "top features\n",
       "        </p>\n",
       "    \n",
       "    <table class=\"eli5-weights\"\n",
       "           style=\"border-collapse: collapse; border: none; margin-top: 0em; table-layout: auto; margin-bottom: 2em;\">\n",
       "        <thead>\n",
       "        <tr style=\"border: none;\">\n",
       "            \n",
       "                <th style=\"padding: 0 1em 0 0.5em; text-align: right; border: none;\" title=\"Feature contribution already accounts for the feature value (for linear models, contribution = weight * feature value), and the sum of feature contributions is equal to the score or, for some classifiers, to the probability. Feature values are shown if &quot;show_feature_values&quot; is True.\">\n",
       "                    Contribution<sup>?</sup>\n",
       "                </th>\n",
       "            \n",
       "            <th style=\"padding: 0 0.5em 0 0.5em; text-align: left; border: none;\">Feature</th>\n",
       "            \n",
       "                <th style=\"padding: 0 0.5em 0 1em; text-align: right; border: none;\">Value</th>\n",
       "            \n",
       "        </tr>\n",
       "        </thead>\n",
       "        <tbody>\n",
       "        \n",
       "            <tr style=\"background-color: hsl(120, 100.00%, 80.00%); border: none;\">\n",
       "    <td style=\"padding: 0 1em 0 0.5em; text-align: right; border: none;\">\n",
       "        +1804.321\n",
       "    </td>\n",
       "    <td style=\"padding: 0 0.5em 0 0.5em; text-align: left; border: none;\">\n",
       "        &lt;BIAS&gt;\n",
       "    </td>\n",
       "    \n",
       "        <td style=\"padding: 0 0.5em 0 1em; text-align: right; border: none;\">\n",
       "            1.000\n",
       "        </td>\n",
       "    \n",
       "</tr>\n",
       "        \n",
       "            <tr style=\"background-color: hsl(120, 100.00%, 80.25%); border: none;\">\n",
       "    <td style=\"padding: 0 1em 0 0.5em; text-align: right; border: none;\">\n",
       "        +1771.604\n",
       "    </td>\n",
       "    <td style=\"padding: 0 0.5em 0 0.5em; text-align: left; border: none;\">\n",
       "        Outlet_Type_Supermarket Type3\n",
       "    </td>\n",
       "    \n",
       "        <td style=\"padding: 0 0.5em 0 1em; text-align: right; border: none;\">\n",
       "            0.591\n",
       "        </td>\n",
       "    \n",
       "</tr>\n",
       "        \n",
       "            <tr style=\"background-color: hsl(120, 100.00%, 96.57%); border: none;\">\n",
       "    <td style=\"padding: 0 1em 0 0.5em; text-align: right; border: none;\">\n",
       "        +145.104\n",
       "    </td>\n",
       "    <td style=\"padding: 0 0.5em 0 0.5em; text-align: left; border: none;\">\n",
       "        Outlet_Identifier\n",
       "    </td>\n",
       "    \n",
       "        <td style=\"padding: 0 0.5em 0 1em; text-align: right; border: none;\">\n",
       "            0.527\n",
       "        </td>\n",
       "    \n",
       "</tr>\n",
       "        \n",
       "        \n",
       "\n",
       "        \n",
       "        \n",
       "            <tr style=\"background-color: hsl(0, 100.00%, 94.57%); border: none;\">\n",
       "    <td style=\"padding: 0 1em 0 0.5em; text-align: right; border: none;\">\n",
       "        -279.816\n",
       "    </td>\n",
       "    <td style=\"padding: 0 0.5em 0 0.5em; text-align: left; border: none;\">\n",
       "        Item_MRP\n",
       "    </td>\n",
       "    \n",
       "        <td style=\"padding: 0 0.5em 0 1em; text-align: right; border: none;\">\n",
       "            0.594\n",
       "        </td>\n",
       "    \n",
       "</tr>\n",
       "        \n",
       "\n",
       "        </tbody>\n",
       "    </table>\n",
       "\n",
       "            \n",
       "        \n",
       "\n",
       "        \n",
       "\n",
       "\n",
       "\n",
       "    \n",
       "\n",
       "    \n",
       "\n",
       "    \n",
       "\n",
       "    \n",
       "\n",
       "\n",
       "    \n",
       "\n",
       "    \n",
       "\n",
       "    \n",
       "\n",
       "    \n",
       "\n",
       "    \n",
       "\n",
       "    \n",
       "\n",
       "\n",
       "    \n",
       "\n",
       "    \n",
       "\n",
       "    \n",
       "\n",
       "    \n",
       "\n",
       "    \n",
       "\n",
       "    \n",
       "\n",
       "\n",
       "\n"
      ],
      "text/plain": [
       "<IPython.core.display.HTML object>"
      ]
     },
     "execution_count": 105,
     "metadata": {},
     "output_type": "execute_result"
    }
   ],
   "source": [
    "eli5.show_prediction(forest, X_train_transformed['Item_MRP'][0:6], feature_names = list(X_train_transformed)[0:6], show_feature_values=True)"
   ]
  },
  {
   "cell_type": "code",
   "execution_count": 106,
   "id": "d85a48b0",
   "metadata": {
    "ExecuteTime": {
     "end_time": "2023-06-16T02:34:40.726930Z",
     "start_time": "2023-06-16T02:34:40.649974Z"
    }
   },
   "outputs": [
    {
     "data": {
      "text/html": [
       "\n",
       "    <style>\n",
       "    table.eli5-weights tr:hover {\n",
       "        filter: brightness(85%);\n",
       "    }\n",
       "</style>\n",
       "\n",
       "\n",
       "\n",
       "    \n",
       "\n",
       "    \n",
       "\n",
       "    \n",
       "\n",
       "    \n",
       "\n",
       "    \n",
       "\n",
       "    \n",
       "\n",
       "\n",
       "    \n",
       "\n",
       "    \n",
       "\n",
       "    \n",
       "\n",
       "    \n",
       "\n",
       "    \n",
       "\n",
       "    \n",
       "\n",
       "\n",
       "    \n",
       "\n",
       "    \n",
       "\n",
       "    \n",
       "\n",
       "    \n",
       "\n",
       "    \n",
       "        <table class=\"eli5-weights eli5-feature-importances\" style=\"border-collapse: collapse; border: none; margin-top: 0em; table-layout: auto;\">\n",
       "    <thead>\n",
       "    <tr style=\"border: none;\">\n",
       "        <th style=\"padding: 0 1em 0 0.5em; text-align: right; border: none;\">Weight</th>\n",
       "        <th style=\"padding: 0 0.5em 0 0.5em; text-align: left; border: none;\">Feature</th>\n",
       "    </tr>\n",
       "    </thead>\n",
       "    <tbody>\n",
       "    \n",
       "        <tr style=\"background-color: hsl(120, 100.00%, 80.00%); border: none;\">\n",
       "            <td style=\"padding: 0 1em 0 0.5em; text-align: right; border: none;\">\n",
       "                0.7195\n",
       "                \n",
       "                    &plusmn; 0.0171\n",
       "                \n",
       "            </td>\n",
       "            <td style=\"padding: 0 0.5em 0 0.5em; text-align: left; border: none;\">\n",
       "                x0\n",
       "            </td>\n",
       "        </tr>\n",
       "    \n",
       "        <tr style=\"background-color: hsl(120, 100.00%, 93.13%); border: none;\">\n",
       "            <td style=\"padding: 0 1em 0 0.5em; text-align: right; border: none;\">\n",
       "                0.1564\n",
       "                \n",
       "                    &plusmn; 0.0379\n",
       "                \n",
       "            </td>\n",
       "            <td style=\"padding: 0 0.5em 0 0.5em; text-align: left; border: none;\">\n",
       "                x4\n",
       "            </td>\n",
       "        </tr>\n",
       "    \n",
       "        <tr style=\"background-color: hsl(120, 100.00%, 96.93%); border: none;\">\n",
       "            <td style=\"padding: 0 1em 0 0.5em; text-align: right; border: none;\">\n",
       "                0.0494\n",
       "                \n",
       "                    &plusmn; 0.0077\n",
       "                \n",
       "            </td>\n",
       "            <td style=\"padding: 0 0.5em 0 0.5em; text-align: left; border: none;\">\n",
       "                x1\n",
       "            </td>\n",
       "        </tr>\n",
       "    \n",
       "        <tr style=\"background-color: hsl(120, 100.00%, 97.67%); border: none;\">\n",
       "            <td style=\"padding: 0 1em 0 0.5em; text-align: right; border: none;\">\n",
       "                0.0334\n",
       "                \n",
       "                    &plusmn; 0.0315\n",
       "                \n",
       "            </td>\n",
       "            <td style=\"padding: 0 0.5em 0 0.5em; text-align: left; border: none;\">\n",
       "                x3\n",
       "            </td>\n",
       "        </tr>\n",
       "    \n",
       "        <tr style=\"background-color: hsl(120, 100.00%, 97.89%); border: none;\">\n",
       "            <td style=\"padding: 0 1em 0 0.5em; text-align: right; border: none;\">\n",
       "                0.0289\n",
       "                \n",
       "                    &plusmn; 0.0068\n",
       "                \n",
       "            </td>\n",
       "            <td style=\"padding: 0 0.5em 0 0.5em; text-align: left; border: none;\">\n",
       "                x2\n",
       "            </td>\n",
       "        </tr>\n",
       "    \n",
       "        <tr style=\"background-color: hsl(120, 100.00%, 98.83%); border: none;\">\n",
       "            <td style=\"padding: 0 1em 0 0.5em; text-align: right; border: none;\">\n",
       "                0.0125\n",
       "                \n",
       "                    &plusmn; 0.0041\n",
       "                \n",
       "            </td>\n",
       "            <td style=\"padding: 0 0.5em 0 0.5em; text-align: left; border: none;\">\n",
       "                x5\n",
       "            </td>\n",
       "        </tr>\n",
       "    \n",
       "    \n",
       "    </tbody>\n",
       "</table>\n",
       "    \n",
       "\n",
       "    \n",
       "\n",
       "\n",
       "    \n",
       "\n",
       "    \n",
       "\n",
       "    \n",
       "\n",
       "    \n",
       "\n",
       "    \n",
       "\n",
       "    \n",
       "\n",
       "\n",
       "\n"
      ],
      "text/plain": [
       "Explanation(estimator=\"RandomForestRegressor(criterion='absolute_error')\", description='\\nRandom forest feature importances; values are numbers 0 <= x <= 1;\\nall values sum to 1.\\n', error=None, method='feature importances', is_regression=True, targets=None, feature_importances=FeatureImportances(importances=[FeatureWeight(feature='x0', weight=0.7195044916743812, std=0.008531983360492825, value=None), FeatureWeight(feature='x4', weight=0.1563502024392771, std=0.018940662126855575, value=None), FeatureWeight(feature='x1', weight=0.04936426892429746, std=0.0038372014873831175, value=None), FeatureWeight(feature='x3', weight=0.03341448323048686, std=0.015749148235047014, value=None), FeatureWeight(feature='x2', weight=0.028899250612413625, std=0.0033831070785986447, value=None), FeatureWeight(feature='x5', weight=0.01246730311914369, std=0.002052609753175249, value=None)], remaining=0), decision_tree=None, highlight_spaces=None, transition_features=None, image=None)"
      ]
     },
     "execution_count": 106,
     "metadata": {},
     "output_type": "execute_result"
    }
   ],
   "source": [
    "eli5.explain_weights(forest)"
   ]
  },
  {
   "cell_type": "code",
   "execution_count": 107,
   "id": "9136e192",
   "metadata": {
    "ExecuteTime": {
     "end_time": "2023-06-16T02:34:40.819870Z",
     "start_time": "2023-06-16T02:34:40.728926Z"
    }
   },
   "outputs": [
    {
     "data": {
      "text/html": [
       "\n",
       "    <style>\n",
       "    table.eli5-weights tr:hover {\n",
       "        filter: brightness(85%);\n",
       "    }\n",
       "</style>\n",
       "\n",
       "\n",
       "\n",
       "    \n",
       "\n",
       "    \n",
       "\n",
       "    \n",
       "\n",
       "    \n",
       "\n",
       "    \n",
       "\n",
       "    \n",
       "\n",
       "\n",
       "    \n",
       "\n",
       "    \n",
       "\n",
       "    \n",
       "\n",
       "    \n",
       "        \n",
       "\n",
       "    \n",
       "\n",
       "        \n",
       "            \n",
       "                \n",
       "                \n",
       "    \n",
       "        <p style=\"margin-bottom: 0.5em; margin-top: 0em\">\n",
       "            <b>\n",
       "    \n",
       "        y\n",
       "    \n",
       "</b>\n",
       "\n",
       "    \n",
       "    (score <b>2913.860</b>)\n",
       "\n",
       "top features\n",
       "        </p>\n",
       "    \n",
       "    <table class=\"eli5-weights\"\n",
       "           style=\"border-collapse: collapse; border: none; margin-top: 0em; table-layout: auto; margin-bottom: 2em;\">\n",
       "        <thead>\n",
       "        <tr style=\"border: none;\">\n",
       "            \n",
       "                <th style=\"padding: 0 1em 0 0.5em; text-align: right; border: none;\" title=\"Feature contribution already accounts for the feature value (for linear models, contribution = weight * feature value), and the sum of feature contributions is equal to the score or, for some classifiers, to the probability. Feature values are shown if &quot;show_feature_values&quot; is True.\">\n",
       "                    Contribution<sup>?</sup>\n",
       "                </th>\n",
       "            \n",
       "            <th style=\"padding: 0 0.5em 0 0.5em; text-align: left; border: none;\">Feature</th>\n",
       "            \n",
       "        </tr>\n",
       "        </thead>\n",
       "        <tbody>\n",
       "        \n",
       "            <tr style=\"background-color: hsl(120, 100.00%, 80.00%); border: none;\">\n",
       "    <td style=\"padding: 0 1em 0 0.5em; text-align: right; border: none;\">\n",
       "        +1822.717\n",
       "    </td>\n",
       "    <td style=\"padding: 0 0.5em 0 0.5em; text-align: left; border: none;\">\n",
       "        x1\n",
       "    </td>\n",
       "    \n",
       "</tr>\n",
       "        \n",
       "            <tr style=\"background-color: hsl(120, 100.00%, 80.14%); border: none;\">\n",
       "    <td style=\"padding: 0 1em 0 0.5em; text-align: right; border: none;\">\n",
       "        +1804.321\n",
       "    </td>\n",
       "    <td style=\"padding: 0 0.5em 0 0.5em; text-align: left; border: none;\">\n",
       "        &lt;BIAS&gt;\n",
       "    </td>\n",
       "    \n",
       "</tr>\n",
       "        \n",
       "            <tr style=\"background-color: hsl(120, 100.00%, 96.60%); border: none;\">\n",
       "    <td style=\"padding: 0 1em 0 0.5em; text-align: right; border: none;\">\n",
       "        +145.104\n",
       "    </td>\n",
       "    <td style=\"padding: 0 0.5em 0 0.5em; text-align: left; border: none;\">\n",
       "        x4\n",
       "    </td>\n",
       "    \n",
       "</tr>\n",
       "        \n",
       "        \n",
       "\n",
       "        \n",
       "        \n",
       "            <tr style=\"background-color: hsl(0, 100.00%, 88.19%); border: none;\">\n",
       "    <td style=\"padding: 0 1em 0 0.5em; text-align: right; border: none;\">\n",
       "        -858.283\n",
       "    </td>\n",
       "    <td style=\"padding: 0 0.5em 0 0.5em; text-align: left; border: none;\">\n",
       "        x0\n",
       "    </td>\n",
       "    \n",
       "</tr>\n",
       "        \n",
       "\n",
       "        </tbody>\n",
       "    </table>\n",
       "\n",
       "            \n",
       "        \n",
       "\n",
       "        \n",
       "\n",
       "\n",
       "\n",
       "    \n",
       "\n",
       "    \n",
       "\n",
       "    \n",
       "\n",
       "    \n",
       "\n",
       "\n",
       "    \n",
       "\n",
       "    \n",
       "\n",
       "    \n",
       "\n",
       "    \n",
       "\n",
       "    \n",
       "\n",
       "    \n",
       "\n",
       "\n",
       "    \n",
       "\n",
       "    \n",
       "\n",
       "    \n",
       "\n",
       "    \n",
       "\n",
       "    \n",
       "\n",
       "    \n",
       "\n",
       "\n",
       "\n"
      ],
      "text/plain": [
       "Explanation(estimator=\"RandomForestRegressor(criterion='absolute_error')\", description='\\nFeatures with largest coefficients.\\n\\nFeature weights are calculated by following decision paths in trees\\nof an ensemble (or a single tree for DecisionTreeClassifier).\\nEach node of the tree has an output score, and contribution of a feature\\non the decision path is how much the score changes from parent to child.\\nWeights of all features sum to the output score or proba of the estimator.\\n\\nCaveats:\\n1. Feature weights just show if the feature contributed positively or\\n   negatively to the final score, and does not show how increasing or\\n   decreasing the feature value will change the prediction.\\n2. In some cases, feature weight can be close to zero for an important feature.\\n   For example, in a single tree that computes XOR function, the feature at the\\n   top of the tree will have zero weight because expected scores for both\\n   branches are equal, so decision at the top feature does not change the\\n   expected score. For an ensemble predicting XOR functions it might not be\\n   a problem, but it is not reliable if most trees happen to choose the same\\n   feature at the top.\\n', error=None, method='decision path', is_regression=True, targets=[TargetExplanation(target='y', feature_weights=FeatureWeights(pos=[FeatureWeight(feature='x1', weight=1822.7173830000008, std=None, value=660.2738599999998), FeatureWeight(feature='<BIAS>', weight=1804.3213290000006, std=None, value=1.0), FeatureWeight(feature='x4', weight=145.10445199999998, std=None, value=2563.216813999996)], neg=[FeatureWeight(feature='x0', weight=-858.2827800000007, std=None, value=686.8359509999996)], pos_remaining=0, neg_remaining=0), proba=None, score=2913.8603839999973, weighted_spans=None, heatmap=None)], feature_importances=None, decision_tree=None, highlight_spaces=None, transition_features=None, image=None)"
      ]
     },
     "execution_count": 107,
     "metadata": {},
     "output_type": "execute_result"
    }
   ],
   "source": [
    "eli5.explain_prediction(forest, forest_pred[0:6])"
   ]
  },
  {
   "cell_type": "code",
   "execution_count": 108,
   "id": "93dcdf10",
   "metadata": {
    "ExecuteTime": {
     "end_time": "2023-06-16T02:34:40.834860Z",
     "start_time": "2023-06-16T02:34:40.821869Z"
    }
   },
   "outputs": [],
   "source": [
    "score = {'Model': ['Linear Regression', 'Deep Learning LSTM', 'Random Forest', 'XGBRegressor', 'SVR'],\n",
    "         'Score Mape': [linreg_mape, deep_LSTM_mape, forest_mape, xgb_mape, svr_mape]}"
   ]
  },
  {
   "cell_type": "code",
   "execution_count": 109,
   "id": "56cb996b",
   "metadata": {
    "ExecuteTime": {
     "end_time": "2023-06-16T02:34:40.850850Z",
     "start_time": "2023-06-16T02:34:40.836861Z"
    }
   },
   "outputs": [],
   "source": [
    "df_score = pd.DataFrame(score)"
   ]
  },
  {
   "cell_type": "code",
   "execution_count": 110,
   "id": "5975cd2b",
   "metadata": {
    "ExecuteTime": {
     "end_time": "2023-06-16T02:34:40.866840Z",
     "start_time": "2023-06-16T02:34:40.852849Z"
    }
   },
   "outputs": [],
   "source": [
    "df_score = round(df_score.sort_values('Score Mape'), 2)"
   ]
  },
  {
   "cell_type": "code",
   "execution_count": 111,
   "id": "e9580efd",
   "metadata": {
    "ExecuteTime": {
     "end_time": "2023-06-16T02:34:40.882831Z",
     "start_time": "2023-06-16T02:34:40.868839Z"
    }
   },
   "outputs": [
    {
     "data": {
      "text/html": [
       "<div>\n",
       "<style scoped>\n",
       "    .dataframe tbody tr th:only-of-type {\n",
       "        vertical-align: middle;\n",
       "    }\n",
       "\n",
       "    .dataframe tbody tr th {\n",
       "        vertical-align: top;\n",
       "    }\n",
       "\n",
       "    .dataframe thead th {\n",
       "        text-align: right;\n",
       "    }\n",
       "</style>\n",
       "<table border=\"1\" class=\"dataframe\">\n",
       "  <thead>\n",
       "    <tr style=\"text-align: right;\">\n",
       "      <th></th>\n",
       "      <th>Model</th>\n",
       "      <th>Score Mape</th>\n",
       "    </tr>\n",
       "  </thead>\n",
       "  <tbody>\n",
       "    <tr>\n",
       "      <th>3</th>\n",
       "      <td>XGBRegressor</td>\n",
       "      <td>0.47</td>\n",
       "    </tr>\n",
       "    <tr>\n",
       "      <th>1</th>\n",
       "      <td>Deep Learning LSTM</td>\n",
       "      <td>0.52</td>\n",
       "    </tr>\n",
       "    <tr>\n",
       "      <th>2</th>\n",
       "      <td>Random Forest</td>\n",
       "      <td>0.60</td>\n",
       "    </tr>\n",
       "    <tr>\n",
       "      <th>4</th>\n",
       "      <td>SVR</td>\n",
       "      <td>0.80</td>\n",
       "    </tr>\n",
       "    <tr>\n",
       "      <th>0</th>\n",
       "      <td>Linear Regression</td>\n",
       "      <td>0.99</td>\n",
       "    </tr>\n",
       "  </tbody>\n",
       "</table>\n",
       "</div>"
      ],
      "text/plain": [
       "                Model  Score Mape\n",
       "3        XGBRegressor        0.47\n",
       "1  Deep Learning LSTM        0.52\n",
       "2       Random Forest        0.60\n",
       "4                 SVR        0.80\n",
       "0   Linear Regression        0.99"
      ]
     },
     "execution_count": 111,
     "metadata": {},
     "output_type": "execute_result"
    }
   ],
   "source": [
    "df_score"
   ]
  }
 ],
 "metadata": {
  "kernelspec": {
   "display_name": "Python 3 (ipykernel)",
   "language": "python",
   "name": "python3"
  },
  "language_info": {
   "codemirror_mode": {
    "name": "ipython",
    "version": 3
   },
   "file_extension": ".py",
   "mimetype": "text/x-python",
   "name": "python",
   "nbconvert_exporter": "python",
   "pygments_lexer": "ipython3",
   "version": "3.9.13"
  },
  "toc": {
   "base_numbering": 1,
   "nav_menu": {},
   "number_sections": true,
   "sideBar": true,
   "skip_h1_title": false,
   "title_cell": "Table of Contents",
   "title_sidebar": "Contents",
   "toc_cell": false,
   "toc_position": {},
   "toc_section_display": true,
   "toc_window_display": false
  }
 },
 "nbformat": 4,
 "nbformat_minor": 5
}
